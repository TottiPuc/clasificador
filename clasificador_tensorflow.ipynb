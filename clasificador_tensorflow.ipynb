{
  "nbformat": 4,
  "nbformat_minor": 0,
  "metadata": {
    "colab": {
      "name": "clasificador_tensorflow.ipynb",
      "provenance": [],
      "authorship_tag": "ABX9TyOYA01XGVg2Tm3Sgn0qMmAJ",
      "include_colab_link": true
    },
    "kernelspec": {
      "name": "python3",
      "display_name": "Python 3"
    },
    "language_info": {
      "name": "python"
    }
  },
  "cells": [
    {
      "cell_type": "markdown",
      "metadata": {
        "id": "view-in-github",
        "colab_type": "text"
      },
      "source": [
        "<a href=\"https://colab.research.google.com/github/TottiPuc/clasificador/blob/master/clasificador_tensorflow.ipynb\" target=\"_parent\"><img src=\"https://colab.research.google.com/assets/colab-badge.svg\" alt=\"Open In Colab\"/></a>"
      ]
    },
    {
      "cell_type": "code",
      "metadata": {
        "id": "kBF0XFX1D5_r"
      },
      "source": [
        "import numpy as np\n",
        "import pandas as pd\n",
        "import tensorflow as tf\n",
        "from sklearn.model_selection import train_test_split\n",
        "from sklearn.preprocessing import StandardScaler\n",
        "from tensorflow.keras.models import load_model"
      ],
      "execution_count": 29,
      "outputs": []
    },
    {
      "cell_type": "code",
      "metadata": {
        "colab": {
          "base_uri": "https://localhost:8080/"
        },
        "id": "BI61oXvoXYum",
        "outputId": "9618aa8c-5de8-4824-d991-291a72bce7e8"
      },
      "source": [
        "!wget https://github.com/TottiPuc/clasificador/raw/master/storepurchasedata_large.csv"
      ],
      "execution_count": 12,
      "outputs": [
        {
          "output_type": "stream",
          "text": [
            "--2021-05-29 01:41:06--  https://github.com/TottiPuc/clasificador/raw/master/storepurchasedata_large.csv\n",
            "Resolving github.com (github.com)... 140.82.114.3\n",
            "Connecting to github.com (github.com)|140.82.114.3|:443... connected.\n",
            "HTTP request sent, awaiting response... 302 Found\n",
            "Location: https://raw.githubusercontent.com/TottiPuc/clasificador/master/storepurchasedata_large.csv [following]\n",
            "--2021-05-29 01:41:06--  https://raw.githubusercontent.com/TottiPuc/clasificador/master/storepurchasedata_large.csv\n",
            "Resolving raw.githubusercontent.com (raw.githubusercontent.com)... 185.199.108.133, 185.199.109.133, 185.199.110.133, ...\n",
            "Connecting to raw.githubusercontent.com (raw.githubusercontent.com)|185.199.108.133|:443... connected.\n",
            "HTTP request sent, awaiting response... 200 OK\n",
            "Length: 17114 (17K) [text/plain]\n",
            "Saving to: ‘storepurchasedata_large.csv.1’\n",
            "\n",
            "storepurchasedata_l 100%[===================>]  16.71K  --.-KB/s    in 0s      \n",
            "\n",
            "2021-05-29 01:41:06 (34.0 MB/s) - ‘storepurchasedata_large.csv.1’ saved [17114/17114]\n",
            "\n"
          ],
          "name": "stdout"
        }
      ]
    },
    {
      "cell_type": "code",
      "metadata": {
        "id": "rcloFw2GXpss"
      },
      "source": [
        "df = pd.read_csv('storepurchasedata_large.csv')"
      ],
      "execution_count": 13,
      "outputs": []
    },
    {
      "cell_type": "code",
      "metadata": {
        "colab": {
          "base_uri": "https://localhost:8080/",
          "height": 297
        },
        "id": "9xDqmY1gX0jU",
        "outputId": "df3332a3-129f-4f02-a316-e40acad44772"
      },
      "source": [
        "df.describe()"
      ],
      "execution_count": 14,
      "outputs": [
        {
          "output_type": "execute_result",
          "data": {
            "text/html": [
              "<div>\n",
              "<style scoped>\n",
              "    .dataframe tbody tr th:only-of-type {\n",
              "        vertical-align: middle;\n",
              "    }\n",
              "\n",
              "    .dataframe tbody tr th {\n",
              "        vertical-align: top;\n",
              "    }\n",
              "\n",
              "    .dataframe thead th {\n",
              "        text-align: right;\n",
              "    }\n",
              "</style>\n",
              "<table border=\"1\" class=\"dataframe\">\n",
              "  <thead>\n",
              "    <tr style=\"text-align: right;\">\n",
              "      <th></th>\n",
              "      <th>Age</th>\n",
              "      <th>Salary</th>\n",
              "      <th>Purchased</th>\n",
              "    </tr>\n",
              "  </thead>\n",
              "  <tbody>\n",
              "    <tr>\n",
              "      <th>count</th>\n",
              "      <td>1554.000000</td>\n",
              "      <td>1554.000000</td>\n",
              "      <td>1554.000000</td>\n",
              "    </tr>\n",
              "    <tr>\n",
              "      <th>mean</th>\n",
              "      <td>44.296010</td>\n",
              "      <td>57042.471042</td>\n",
              "      <td>0.694981</td>\n",
              "    </tr>\n",
              "    <tr>\n",
              "      <th>std</th>\n",
              "      <td>17.462458</td>\n",
              "      <td>21209.244800</td>\n",
              "      <td>0.460564</td>\n",
              "    </tr>\n",
              "    <tr>\n",
              "      <th>min</th>\n",
              "      <td>18.000000</td>\n",
              "      <td>20000.000000</td>\n",
              "      <td>0.000000</td>\n",
              "    </tr>\n",
              "    <tr>\n",
              "      <th>25%</th>\n",
              "      <td>27.000000</td>\n",
              "      <td>46000.000000</td>\n",
              "      <td>0.000000</td>\n",
              "    </tr>\n",
              "    <tr>\n",
              "      <th>50%</th>\n",
              "      <td>43.000000</td>\n",
              "      <td>60000.000000</td>\n",
              "      <td>1.000000</td>\n",
              "    </tr>\n",
              "    <tr>\n",
              "      <th>75%</th>\n",
              "      <td>62.000000</td>\n",
              "      <td>66000.000000</td>\n",
              "      <td>1.000000</td>\n",
              "    </tr>\n",
              "    <tr>\n",
              "      <th>max</th>\n",
              "      <td>69.000000</td>\n",
              "      <td>96000.000000</td>\n",
              "      <td>1.000000</td>\n",
              "    </tr>\n",
              "  </tbody>\n",
              "</table>\n",
              "</div>"
            ],
            "text/plain": [
              "               Age        Salary    Purchased\n",
              "count  1554.000000   1554.000000  1554.000000\n",
              "mean     44.296010  57042.471042     0.694981\n",
              "std      17.462458  21209.244800     0.460564\n",
              "min      18.000000  20000.000000     0.000000\n",
              "25%      27.000000  46000.000000     0.000000\n",
              "50%      43.000000  60000.000000     1.000000\n",
              "75%      62.000000  66000.000000     1.000000\n",
              "max      69.000000  96000.000000     1.000000"
            ]
          },
          "metadata": {
            "tags": []
          },
          "execution_count": 14
        }
      ]
    },
    {
      "cell_type": "code",
      "metadata": {
        "id": "H_viPtuoX2nL"
      },
      "source": [
        "x=df.iloc[:,:-1].values\n",
        "y=df.iloc[:,-1].values"
      ],
      "execution_count": 15,
      "outputs": []
    },
    {
      "cell_type": "code",
      "metadata": {
        "id": "1e52iG1GYIIX"
      },
      "source": [
        "X_train, X_test, y_train, y_test = train_test_split(x,y,test_size=0.20, random_state=0)"
      ],
      "execution_count": 16,
      "outputs": []
    },
    {
      "cell_type": "code",
      "metadata": {
        "id": "xFCAsOrfYcna"
      },
      "source": [
        "sc = StandardScaler()\n",
        "X_train = sc.fit_transform(X_train)\n",
        "X_test = sc.transform(X_test)"
      ],
      "execution_count": 17,
      "outputs": []
    },
    {
      "cell_type": "code",
      "metadata": {
        "id": "KyJUUtr1YxU-"
      },
      "source": [
        "model= tf.keras.models.Sequential([\n",
        "                                   tf.keras.layers.Dense(10, activation='relu'),\n",
        "                                   tf.keras.layers.Dense(10, activation='relu'),\n",
        "                                   tf.keras.layers.Dense(2, activation='softmax'),\n",
        "])"
      ],
      "execution_count": 20,
      "outputs": []
    },
    {
      "cell_type": "code",
      "metadata": {
        "id": "UxIvjumOyFKW"
      },
      "source": [
        "model.compile(optimizer='adam',\n",
        "              loss='sparse_categorical_crossentropy',\n",
        "              metrics=['accuracy'])"
      ],
      "execution_count": 21,
      "outputs": []
    },
    {
      "cell_type": "code",
      "metadata": {
        "colab": {
          "base_uri": "https://localhost:8080/"
        },
        "id": "WZkceBNzyZuE",
        "outputId": "57826c90-baf2-47af-b5d9-117ac41009ac"
      },
      "source": [
        "model.fit(X_train,y_train, epochs=50)"
      ],
      "execution_count": 22,
      "outputs": [
        {
          "output_type": "stream",
          "text": [
            "Epoch 1/50\n",
            "39/39 [==============================] - 1s 2ms/step - loss: 0.6430 - accuracy: 0.7731\n",
            "Epoch 2/50\n",
            "39/39 [==============================] - 0s 2ms/step - loss: 0.5483 - accuracy: 0.8528\n",
            "Epoch 3/50\n",
            "39/39 [==============================] - 0s 2ms/step - loss: 0.4390 - accuracy: 0.8970\n",
            "Epoch 4/50\n",
            "39/39 [==============================] - 0s 2ms/step - loss: 0.3363 - accuracy: 0.9598\n",
            "Epoch 5/50\n",
            "39/39 [==============================] - 0s 2ms/step - loss: 0.2617 - accuracy: 0.9558\n",
            "Epoch 6/50\n",
            "39/39 [==============================] - 0s 2ms/step - loss: 0.2144 - accuracy: 0.9549\n",
            "Epoch 7/50\n",
            "39/39 [==============================] - 0s 2ms/step - loss: 0.1839 - accuracy: 0.9549\n",
            "Epoch 8/50\n",
            "39/39 [==============================] - 0s 2ms/step - loss: 0.1631 - accuracy: 0.9533\n",
            "Epoch 9/50\n",
            "39/39 [==============================] - 0s 2ms/step - loss: 0.1478 - accuracy: 0.9558\n",
            "Epoch 10/50\n",
            "39/39 [==============================] - 0s 2ms/step - loss: 0.1372 - accuracy: 0.9549\n",
            "Epoch 11/50\n",
            "39/39 [==============================] - 0s 2ms/step - loss: 0.1305 - accuracy: 0.9558\n",
            "Epoch 12/50\n",
            "39/39 [==============================] - 0s 1ms/step - loss: 0.1262 - accuracy: 0.9558\n",
            "Epoch 13/50\n",
            "39/39 [==============================] - 0s 2ms/step - loss: 0.1227 - accuracy: 0.9549\n",
            "Epoch 14/50\n",
            "39/39 [==============================] - 0s 2ms/step - loss: 0.1202 - accuracy: 0.9549\n",
            "Epoch 15/50\n",
            "39/39 [==============================] - 0s 2ms/step - loss: 0.1186 - accuracy: 0.9558\n",
            "Epoch 16/50\n",
            "39/39 [==============================] - 0s 2ms/step - loss: 0.1170 - accuracy: 0.9517\n",
            "Epoch 17/50\n",
            "39/39 [==============================] - 0s 1ms/step - loss: 0.1161 - accuracy: 0.9533\n",
            "Epoch 18/50\n",
            "39/39 [==============================] - 0s 2ms/step - loss: 0.1149 - accuracy: 0.9541\n",
            "Epoch 19/50\n",
            "39/39 [==============================] - 0s 2ms/step - loss: 0.1139 - accuracy: 0.9558\n",
            "Epoch 20/50\n",
            "39/39 [==============================] - 0s 2ms/step - loss: 0.1133 - accuracy: 0.9549\n",
            "Epoch 21/50\n",
            "39/39 [==============================] - 0s 1ms/step - loss: 0.1128 - accuracy: 0.9549\n",
            "Epoch 22/50\n",
            "39/39 [==============================] - 0s 1ms/step - loss: 0.1121 - accuracy: 0.9517\n",
            "Epoch 23/50\n",
            "39/39 [==============================] - 0s 1ms/step - loss: 0.1113 - accuracy: 0.9533\n",
            "Epoch 24/50\n",
            "39/39 [==============================] - 0s 2ms/step - loss: 0.1107 - accuracy: 0.9533\n",
            "Epoch 25/50\n",
            "39/39 [==============================] - 0s 1ms/step - loss: 0.1103 - accuracy: 0.9517\n",
            "Epoch 26/50\n",
            "39/39 [==============================] - 0s 2ms/step - loss: 0.1109 - accuracy: 0.9541\n",
            "Epoch 27/50\n",
            "39/39 [==============================] - 0s 1ms/step - loss: 0.1096 - accuracy: 0.9525\n",
            "Epoch 28/50\n",
            "39/39 [==============================] - 0s 2ms/step - loss: 0.1087 - accuracy: 0.9517\n",
            "Epoch 29/50\n",
            "39/39 [==============================] - 0s 2ms/step - loss: 0.1089 - accuracy: 0.9558\n",
            "Epoch 30/50\n",
            "39/39 [==============================] - 0s 2ms/step - loss: 0.1085 - accuracy: 0.9525\n",
            "Epoch 31/50\n",
            "39/39 [==============================] - 0s 2ms/step - loss: 0.1079 - accuracy: 0.9517\n",
            "Epoch 32/50\n",
            "39/39 [==============================] - 0s 1ms/step - loss: 0.1075 - accuracy: 0.9525\n",
            "Epoch 33/50\n",
            "39/39 [==============================] - 0s 2ms/step - loss: 0.1076 - accuracy: 0.9525\n",
            "Epoch 34/50\n",
            "39/39 [==============================] - 0s 1ms/step - loss: 0.1075 - accuracy: 0.9517\n",
            "Epoch 35/50\n",
            "39/39 [==============================] - 0s 2ms/step - loss: 0.1074 - accuracy: 0.9541\n",
            "Epoch 36/50\n",
            "39/39 [==============================] - 0s 2ms/step - loss: 0.1066 - accuracy: 0.9517\n",
            "Epoch 37/50\n",
            "39/39 [==============================] - 0s 2ms/step - loss: 0.1062 - accuracy: 0.9517\n",
            "Epoch 38/50\n",
            "39/39 [==============================] - 0s 2ms/step - loss: 0.1059 - accuracy: 0.9525\n",
            "Epoch 39/50\n",
            "39/39 [==============================] - 0s 1ms/step - loss: 0.1055 - accuracy: 0.9517\n",
            "Epoch 40/50\n",
            "39/39 [==============================] - 0s 2ms/step - loss: 0.1050 - accuracy: 0.9517\n",
            "Epoch 41/50\n",
            "39/39 [==============================] - 0s 2ms/step - loss: 0.1047 - accuracy: 0.9517\n",
            "Epoch 42/50\n",
            "39/39 [==============================] - 0s 1ms/step - loss: 0.1051 - accuracy: 0.9517\n",
            "Epoch 43/50\n",
            "39/39 [==============================] - 0s 2ms/step - loss: 0.1048 - accuracy: 0.9541\n",
            "Epoch 44/50\n",
            "39/39 [==============================] - 0s 2ms/step - loss: 0.1045 - accuracy: 0.9517\n",
            "Epoch 45/50\n",
            "39/39 [==============================] - 0s 2ms/step - loss: 0.1043 - accuracy: 0.9517\n",
            "Epoch 46/50\n",
            "39/39 [==============================] - 0s 2ms/step - loss: 0.1038 - accuracy: 0.9525\n",
            "Epoch 47/50\n",
            "39/39 [==============================] - 0s 2ms/step - loss: 0.1040 - accuracy: 0.9533\n",
            "Epoch 48/50\n",
            "39/39 [==============================] - 0s 1ms/step - loss: 0.1027 - accuracy: 0.9517\n",
            "Epoch 49/50\n",
            "39/39 [==============================] - 0s 2ms/step - loss: 0.1025 - accuracy: 0.9558\n",
            "Epoch 50/50\n",
            "39/39 [==============================] - 0s 2ms/step - loss: 0.1028 - accuracy: 0.9517\n"
          ],
          "name": "stdout"
        },
        {
          "output_type": "execute_result",
          "data": {
            "text/plain": [
              "<tensorflow.python.keras.callbacks.History at 0x7fd27bedda50>"
            ]
          },
          "metadata": {
            "tags": []
          },
          "execution_count": 22
        }
      ]
    },
    {
      "cell_type": "code",
      "metadata": {
        "colab": {
          "base_uri": "https://localhost:8080/"
        },
        "id": "vCAyKNx3yhB8",
        "outputId": "c73156c3-efd5-44a0-95ae-2196b75342c2"
      },
      "source": [
        "loss, accuracy = model.evaluate(X_test,y_test)"
      ],
      "execution_count": 23,
      "outputs": [
        {
          "output_type": "stream",
          "text": [
            "10/10 [==============================] - 0s 2ms/step - loss: 0.1074 - accuracy: 0.9550\n"
          ],
          "name": "stdout"
        }
      ]
    },
    {
      "cell_type": "code",
      "metadata": {
        "colab": {
          "base_uri": "https://localhost:8080/"
        },
        "id": "FwEQS9jmyrAA",
        "outputId": "1ac9f3b3-0374-4ff3-bc9a-a61002b9249f"
      },
      "source": [
        "loss, accuracy"
      ],
      "execution_count": 24,
      "outputs": [
        {
          "output_type": "execute_result",
          "data": {
            "text/plain": [
              "(0.10739599168300629, 0.9549839496612549)"
            ]
          },
          "metadata": {
            "tags": []
          },
          "execution_count": 24
        }
      ]
    },
    {
      "cell_type": "code",
      "metadata": {
        "colab": {
          "base_uri": "https://localhost:8080/"
        },
        "id": "EMB0h7-eyvAz",
        "outputId": "441bfece-c1b0-4bdd-b4ce-e77223c3f5a6"
      },
      "source": [
        "model.summary()"
      ],
      "execution_count": 25,
      "outputs": [
        {
          "output_type": "stream",
          "text": [
            "Model: \"sequential\"\n",
            "_________________________________________________________________\n",
            "Layer (type)                 Output Shape              Param #   \n",
            "=================================================================\n",
            "dense_1 (Dense)              (None, 10)                30        \n",
            "_________________________________________________________________\n",
            "dense_2 (Dense)              (None, 10)                110       \n",
            "_________________________________________________________________\n",
            "dense_3 (Dense)              (None, 2)                 22        \n",
            "=================================================================\n",
            "Total params: 162\n",
            "Trainable params: 162\n",
            "Non-trainable params: 0\n",
            "_________________________________________________________________\n"
          ],
          "name": "stdout"
        }
      ]
    },
    {
      "cell_type": "code",
      "metadata": {
        "colab": {
          "base_uri": "https://localhost:8080/"
        },
        "id": "jvqs0D0myyro",
        "outputId": "3b03be07-3695-4135-e152-c2a57205a896"
      },
      "source": [
        "prediction = model.predict(sc.transform(np.array([[42,50000]])))[:,1]\n",
        "prediction"
      ],
      "execution_count": 27,
      "outputs": [
        {
          "output_type": "execute_result",
          "data": {
            "text/plain": [
              "array([0.65226895], dtype=float32)"
            ]
          },
          "metadata": {
            "tags": []
          },
          "execution_count": 27
        }
      ]
    },
    {
      "cell_type": "code",
      "metadata": {
        "colab": {
          "base_uri": "https://localhost:8080/"
        },
        "id": "A7bqZjuZzAlc",
        "outputId": "33f97698-db2b-4dcd-82db-3688ba35742b"
      },
      "source": [
        "model.save('customer_behavior_model/1')"
      ],
      "execution_count": 28,
      "outputs": [
        {
          "output_type": "stream",
          "text": [
            "INFO:tensorflow:Assets written to: customer_behavior_model/1/assets\n"
          ],
          "name": "stdout"
        }
      ]
    },
    {
      "cell_type": "code",
      "metadata": {
        "id": "aN7BchRt0EUB"
      },
      "source": [
        "custom_comel = load_model('customer_behavior_model/1/')"
      ],
      "execution_count": 30,
      "outputs": []
    },
    {
      "cell_type": "code",
      "metadata": {
        "colab": {
          "base_uri": "https://localhost:8080/"
        },
        "id": "og_Q9sxT1DlI",
        "outputId": "967cbd9c-981b-4a09-ee7a-eeb552d56c17"
      },
      "source": [
        "prediction1= custom_comel.predict(sc.transform(np.array([[42,30000]])))[:,1]\n",
        "prediction1"
      ],
      "execution_count": 32,
      "outputs": [
        {
          "output_type": "execute_result",
          "data": {
            "text/plain": [
              "array([0.00410306], dtype=float32)"
            ]
          },
          "metadata": {
            "tags": []
          },
          "execution_count": 32
        }
      ]
    },
    {
      "cell_type": "code",
      "metadata": {
        "colab": {
          "base_uri": "https://localhost:8080/"
        },
        "id": "FivMa_Rl1OY5",
        "outputId": "e88d9d9a-a3a0-4776-f709-204085190c29"
      },
      "source": [
        "!zip -r customermodel.zip customer_behavior_model"
      ],
      "execution_count": 33,
      "outputs": [
        {
          "output_type": "stream",
          "text": [
            "  adding: customer_behavior_model/ (stored 0%)\n",
            "  adding: customer_behavior_model/1/ (stored 0%)\n",
            "  adding: customer_behavior_model/1/saved_model.pb (deflated 88%)\n",
            "  adding: customer_behavior_model/1/variables/ (stored 0%)\n",
            "  adding: customer_behavior_model/1/variables/variables.data-00000-of-00001 (deflated 55%)\n",
            "  adding: customer_behavior_model/1/variables/variables.index (deflated 64%)\n",
            "  adding: customer_behavior_model/1/keras_metadata.pb (deflated 87%)\n",
            "  adding: customer_behavior_model/1/assets/ (stored 0%)\n"
          ],
          "name": "stdout"
        }
      ]
    },
    {
      "cell_type": "code",
      "metadata": {
        "id": "F1jQ3K-V3EAa"
      },
      "source": [
        "from google.colab import files"
      ],
      "execution_count": 34,
      "outputs": []
    },
    {
      "cell_type": "code",
      "metadata": {
        "colab": {
          "base_uri": "https://localhost:8080/",
          "height": 17
        },
        "id": "h_Nn1CdU3J4O",
        "outputId": "7ced8e84-3772-444a-c697-eb38cda104ef"
      },
      "source": [
        "files.download('customermodel.zip')"
      ],
      "execution_count": 35,
      "outputs": [
        {
          "output_type": "display_data",
          "data": {
            "application/javascript": [
              "\n",
              "    async function download(id, filename, size) {\n",
              "      if (!google.colab.kernel.accessAllowed) {\n",
              "        return;\n",
              "      }\n",
              "      const div = document.createElement('div');\n",
              "      const label = document.createElement('label');\n",
              "      label.textContent = `Downloading \"${filename}\": `;\n",
              "      div.appendChild(label);\n",
              "      const progress = document.createElement('progress');\n",
              "      progress.max = size;\n",
              "      div.appendChild(progress);\n",
              "      document.body.appendChild(div);\n",
              "\n",
              "      const buffers = [];\n",
              "      let downloaded = 0;\n",
              "\n",
              "      const channel = await google.colab.kernel.comms.open(id);\n",
              "      // Send a message to notify the kernel that we're ready.\n",
              "      channel.send({})\n",
              "\n",
              "      for await (const message of channel.messages) {\n",
              "        // Send a message to notify the kernel that we're ready.\n",
              "        channel.send({})\n",
              "        if (message.buffers) {\n",
              "          for (const buffer of message.buffers) {\n",
              "            buffers.push(buffer);\n",
              "            downloaded += buffer.byteLength;\n",
              "            progress.value = downloaded;\n",
              "          }\n",
              "        }\n",
              "      }\n",
              "      const blob = new Blob(buffers, {type: 'application/binary'});\n",
              "      const a = document.createElement('a');\n",
              "      a.href = window.URL.createObjectURL(blob);\n",
              "      a.download = filename;\n",
              "      div.appendChild(a);\n",
              "      a.click();\n",
              "      div.remove();\n",
              "    }\n",
              "  "
            ],
            "text/plain": [
              "<IPython.core.display.Javascript object>"
            ]
          },
          "metadata": {
            "tags": []
          }
        },
        {
          "output_type": "display_data",
          "data": {
            "application/javascript": [
              "download(\"download_a0a215aa-1372-4705-8c52-4fb07d3637f1\", \"customermodel.zip\", 17516)"
            ],
            "text/plain": [
              "<IPython.core.display.Javascript object>"
            ]
          },
          "metadata": {
            "tags": []
          }
        }
      ]
    },
    {
      "cell_type": "code",
      "metadata": {
        "id": "7enSQaF03VR3"
      },
      "source": [
        ""
      ],
      "execution_count": null,
      "outputs": []
    }
  ]
}