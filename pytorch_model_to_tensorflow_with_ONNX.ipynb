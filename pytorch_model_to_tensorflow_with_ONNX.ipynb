{
  "nbformat": 4,
  "nbformat_minor": 0,
  "metadata": {
    "colab": {
      "name": "pytorch_model_to_tensorflow_with ONNX.ipynb",
      "provenance": [],
      "authorship_tag": "ABX9TyM4kQ6AjRW0Ad0QwH/6O1dM",
      "include_colab_link": true
    },
    "kernelspec": {
      "name": "python3",
      "display_name": "Python 3"
    },
    "language_info": {
      "name": "python"
    }
  },
  "cells": [
    {
      "cell_type": "markdown",
      "metadata": {
        "id": "view-in-github",
        "colab_type": "text"
      },
      "source": [
        "<a href=\"https://colab.research.google.com/github/TottiPuc/clasificador/blob/master/pytorch_model_to_tensorflow_with_ONNX.ipynb\" target=\"_parent\"><img src=\"https://colab.research.google.com/assets/colab-badge.svg\" alt=\"Open In Colab\"/></a>"
      ]
    },
    {
      "cell_type": "code",
      "metadata": {
        "id": "o1KDy0B9Iagf"
      },
      "source": [
        "import torch\n",
        "import torch.nn as nn\n",
        "from torch.nn import functional as F\n",
        "from sklearn.model_selection import train_test_split\n",
        "from sklearn.preprocessing import StandardScaler\n",
        "import torch.optim as optim\n",
        "import pandas as pd\n",
        "import numpy as np"
      ],
      "execution_count": 7,
      "outputs": []
    },
    {
      "cell_type": "code",
      "metadata": {
        "colab": {
          "base_uri": "https://localhost:8080/"
        },
        "id": "UOMOmyowIucU",
        "outputId": "be7602b4-352e-445d-c781-b5b6036181d1"
      },
      "source": [
        "!wget https://github.com/TottiPuc/clasificador/raw/master/storepurchasedata_large.csv"
      ],
      "execution_count": 2,
      "outputs": [
        {
          "output_type": "stream",
          "text": [
            "--2021-05-29 03:20:58--  https://github.com/TottiPuc/clasificador/raw/master/storepurchasedata_large.csv\n",
            "Resolving github.com (github.com)... 13.114.40.48\n",
            "Connecting to github.com (github.com)|13.114.40.48|:443... connected.\n",
            "HTTP request sent, awaiting response... 302 Found\n",
            "Location: https://raw.githubusercontent.com/TottiPuc/clasificador/master/storepurchasedata_large.csv [following]\n",
            "--2021-05-29 03:20:58--  https://raw.githubusercontent.com/TottiPuc/clasificador/master/storepurchasedata_large.csv\n",
            "Resolving raw.githubusercontent.com (raw.githubusercontent.com)... 185.199.109.133, 185.199.108.133, 185.199.111.133, ...\n",
            "Connecting to raw.githubusercontent.com (raw.githubusercontent.com)|185.199.109.133|:443... connected.\n",
            "HTTP request sent, awaiting response... 200 OK\n",
            "Length: 17114 (17K) [text/plain]\n",
            "Saving to: ‘storepurchasedata_large.csv’\n",
            "\n",
            "storepurchasedata_l 100%[===================>]  16.71K  --.-KB/s    in 0.002s  \n",
            "\n",
            "2021-05-29 03:20:59 (9.26 MB/s) - ‘storepurchasedata_large.csv’ saved [17114/17114]\n",
            "\n"
          ],
          "name": "stdout"
        }
      ]
    },
    {
      "cell_type": "code",
      "metadata": {
        "id": "7Ch11U9AI55L"
      },
      "source": [
        "df = pd.read_csv('storepurchasedata_large.csv')"
      ],
      "execution_count": 3,
      "outputs": []
    },
    {
      "cell_type": "code",
      "metadata": {
        "colab": {
          "base_uri": "https://localhost:8080/",
          "height": 297
        },
        "id": "6iQjsSZ7JAO6",
        "outputId": "c35058cd-5775-4846-ded2-b7a513d30bef"
      },
      "source": [
        "df.describe()"
      ],
      "execution_count": 4,
      "outputs": [
        {
          "output_type": "execute_result",
          "data": {
            "text/html": [
              "<div>\n",
              "<style scoped>\n",
              "    .dataframe tbody tr th:only-of-type {\n",
              "        vertical-align: middle;\n",
              "    }\n",
              "\n",
              "    .dataframe tbody tr th {\n",
              "        vertical-align: top;\n",
              "    }\n",
              "\n",
              "    .dataframe thead th {\n",
              "        text-align: right;\n",
              "    }\n",
              "</style>\n",
              "<table border=\"1\" class=\"dataframe\">\n",
              "  <thead>\n",
              "    <tr style=\"text-align: right;\">\n",
              "      <th></th>\n",
              "      <th>Age</th>\n",
              "      <th>Salary</th>\n",
              "      <th>Purchased</th>\n",
              "    </tr>\n",
              "  </thead>\n",
              "  <tbody>\n",
              "    <tr>\n",
              "      <th>count</th>\n",
              "      <td>1554.000000</td>\n",
              "      <td>1554.000000</td>\n",
              "      <td>1554.000000</td>\n",
              "    </tr>\n",
              "    <tr>\n",
              "      <th>mean</th>\n",
              "      <td>44.296010</td>\n",
              "      <td>57042.471042</td>\n",
              "      <td>0.694981</td>\n",
              "    </tr>\n",
              "    <tr>\n",
              "      <th>std</th>\n",
              "      <td>17.462458</td>\n",
              "      <td>21209.244800</td>\n",
              "      <td>0.460564</td>\n",
              "    </tr>\n",
              "    <tr>\n",
              "      <th>min</th>\n",
              "      <td>18.000000</td>\n",
              "      <td>20000.000000</td>\n",
              "      <td>0.000000</td>\n",
              "    </tr>\n",
              "    <tr>\n",
              "      <th>25%</th>\n",
              "      <td>27.000000</td>\n",
              "      <td>46000.000000</td>\n",
              "      <td>0.000000</td>\n",
              "    </tr>\n",
              "    <tr>\n",
              "      <th>50%</th>\n",
              "      <td>43.000000</td>\n",
              "      <td>60000.000000</td>\n",
              "      <td>1.000000</td>\n",
              "    </tr>\n",
              "    <tr>\n",
              "      <th>75%</th>\n",
              "      <td>62.000000</td>\n",
              "      <td>66000.000000</td>\n",
              "      <td>1.000000</td>\n",
              "    </tr>\n",
              "    <tr>\n",
              "      <th>max</th>\n",
              "      <td>69.000000</td>\n",
              "      <td>96000.000000</td>\n",
              "      <td>1.000000</td>\n",
              "    </tr>\n",
              "  </tbody>\n",
              "</table>\n",
              "</div>"
            ],
            "text/plain": [
              "               Age        Salary    Purchased\n",
              "count  1554.000000   1554.000000  1554.000000\n",
              "mean     44.296010  57042.471042     0.694981\n",
              "std      17.462458  21209.244800     0.460564\n",
              "min      18.000000  20000.000000     0.000000\n",
              "25%      27.000000  46000.000000     0.000000\n",
              "50%      43.000000  60000.000000     1.000000\n",
              "75%      62.000000  66000.000000     1.000000\n",
              "max      69.000000  96000.000000     1.000000"
            ]
          },
          "metadata": {
            "tags": []
          },
          "execution_count": 4
        }
      ]
    },
    {
      "cell_type": "code",
      "metadata": {
        "id": "YDTgS6QpJCl2"
      },
      "source": [
        "X = df.iloc[:,:-1].values\n",
        "Y = df.iloc[:,-1].values"
      ],
      "execution_count": 5,
      "outputs": []
    },
    {
      "cell_type": "code",
      "metadata": {
        "id": "TjdB03RVJkfl"
      },
      "source": [
        "X_train, X_test, y_train, y_test = train_test_split(X,Y,test_size=0.20, random_state=0)"
      ],
      "execution_count": 8,
      "outputs": []
    },
    {
      "cell_type": "code",
      "metadata": {
        "id": "ZbFKgJ-WJmpa"
      },
      "source": [
        "sc = StandardScaler()\n",
        "X_train = sc.fit_transform(X_train)\n",
        "X_test = sc.fit_transform(X_test)"
      ],
      "execution_count": 9,
      "outputs": []
    },
    {
      "cell_type": "code",
      "metadata": {
        "id": "S_aD8KOoJvIl"
      },
      "source": [
        "Xtrain_ = torch.from_numpy(X_train).float()\n",
        "Xtest_ = torch.from_numpy(X_test).float()"
      ],
      "execution_count": 10,
      "outputs": []
    },
    {
      "cell_type": "code",
      "metadata": {
        "colab": {
          "base_uri": "https://localhost:8080/"
        },
        "id": "wsHRbdnnJxUS",
        "outputId": "c5969177-30ec-4e2d-fa79-163fb9bd1fd3"
      },
      "source": [
        "Xtrain_.shape, Xtest_.shape"
      ],
      "execution_count": 11,
      "outputs": [
        {
          "output_type": "execute_result",
          "data": {
            "text/plain": [
              "(torch.Size([1243, 2]), torch.Size([311, 2]))"
            ]
          },
          "metadata": {
            "tags": []
          },
          "execution_count": 11
        }
      ]
    },
    {
      "cell_type": "code",
      "metadata": {
        "colab": {
          "base_uri": "https://localhost:8080/"
        },
        "id": "AlnGwS8ZPUfp",
        "outputId": "95b3b7d8-5de4-4e3a-bf1e-9226ea2b1103"
      },
      "source": [
        "Xtrain_.dtype"
      ],
      "execution_count": 39,
      "outputs": [
        {
          "output_type": "execute_result",
          "data": {
            "text/plain": [
              "torch.float32"
            ]
          },
          "metadata": {
            "tags": []
          },
          "execution_count": 39
        }
      ]
    },
    {
      "cell_type": "code",
      "metadata": {
        "id": "hZl6SO3MJ0a1"
      },
      "source": [
        "Ytrain_ = torch.from_numpy(y_train)\n",
        "Ytest_ = torch.from_numpy(y_test)"
      ],
      "execution_count": 12,
      "outputs": []
    },
    {
      "cell_type": "code",
      "metadata": {
        "id": "kj1cJpPaJ3FF"
      },
      "source": [
        "input_size=2\n",
        "output_size=2\n",
        "hidden_size=10"
      ],
      "execution_count": 13,
      "outputs": []
    },
    {
      "cell_type": "code",
      "metadata": {
        "id": "VrFWCp_6J5Rw"
      },
      "source": [
        "class Net(nn.Module):\n",
        "  def __init__(self):\n",
        "    super(Net, self).__init__()\n",
        "    self.fc1 = torch.nn.Linear(input_size,hidden_size)\n",
        "    self.fc2 = torch.nn.Linear(hidden_size,hidden_size)\n",
        "    self.fc3 = torch.nn.Linear(hidden_size,output_size)\n",
        "\n",
        "  def forward(self,X):\n",
        "    X=torch.relu((self.fc1(X)))\n",
        "    X=torch.relu((self.fc2(X)))\n",
        "    X=self.fc3(X)\n",
        "\n",
        "    return F.log_softmax(X,dim=1)"
      ],
      "execution_count": 14,
      "outputs": []
    },
    {
      "cell_type": "code",
      "metadata": {
        "id": "AkW5bbFSJ7nF"
      },
      "source": [
        "model=Net()"
      ],
      "execution_count": 15,
      "outputs": []
    },
    {
      "cell_type": "code",
      "metadata": {
        "id": "Q-N5SY1RJ94k"
      },
      "source": [
        "optimizer = optim.Adam(model.parameters(),lr=0.01)\n",
        "loss_fn = nn.NLLLoss()"
      ],
      "execution_count": 16,
      "outputs": []
    },
    {
      "cell_type": "code",
      "metadata": {
        "id": "VpoZJH7EKA5t"
      },
      "source": [
        "epochs=100"
      ],
      "execution_count": 17,
      "outputs": []
    },
    {
      "cell_type": "code",
      "metadata": {
        "colab": {
          "base_uri": "https://localhost:8080/"
        },
        "id": "8IGd6GKMKC3s",
        "outputId": "8a9fc0c0-56ce-498f-e60c-7119a54d6a5c"
      },
      "source": [
        "for epoch in range(epochs):\n",
        "  optimizer.zero_grad()\n",
        "  Ypred = model(Xtrain_)\n",
        "  loss = loss_fn(Ypred, Ytrain_)\n",
        "  loss.backward()\n",
        "  optimizer.step()\n",
        "  print('Epoch ', epoch, 'loss ', loss.item())"
      ],
      "execution_count": 18,
      "outputs": [
        {
          "output_type": "stream",
          "text": [
            "Epoch  0 loss  0.6560925245285034\n",
            "Epoch  1 loss  0.6358411908149719\n",
            "Epoch  2 loss  0.618733286857605\n",
            "Epoch  3 loss  0.6045369505882263\n",
            "Epoch  4 loss  0.5918965935707092\n",
            "Epoch  5 loss  0.5792876482009888\n",
            "Epoch  6 loss  0.5661488175392151\n",
            "Epoch  7 loss  0.552024781703949\n",
            "Epoch  8 loss  0.5389926433563232\n",
            "Epoch  9 loss  0.5263939499855042\n",
            "Epoch  10 loss  0.5135021805763245\n",
            "Epoch  11 loss  0.5002800226211548\n",
            "Epoch  12 loss  0.4861507713794708\n",
            "Epoch  13 loss  0.4709118604660034\n",
            "Epoch  14 loss  0.45491254329681396\n",
            "Epoch  15 loss  0.4377923011779785\n",
            "Epoch  16 loss  0.41990527510643005\n",
            "Epoch  17 loss  0.40137672424316406\n",
            "Epoch  18 loss  0.38238754868507385\n",
            "Epoch  19 loss  0.363183856010437\n",
            "Epoch  20 loss  0.3439658284187317\n",
            "Epoch  21 loss  0.32534855604171753\n",
            "Epoch  22 loss  0.30754464864730835\n",
            "Epoch  23 loss  0.2906007170677185\n",
            "Epoch  24 loss  0.27448606491088867\n",
            "Epoch  25 loss  0.25907906889915466\n",
            "Epoch  26 loss  0.24408462643623352\n",
            "Epoch  27 loss  0.22944794595241547\n",
            "Epoch  28 loss  0.2156926989555359\n",
            "Epoch  29 loss  0.20294004678726196\n",
            "Epoch  30 loss  0.1916007399559021\n",
            "Epoch  31 loss  0.18162183463573456\n",
            "Epoch  32 loss  0.17280671000480652\n",
            "Epoch  33 loss  0.1648416370153427\n",
            "Epoch  34 loss  0.15763941407203674\n",
            "Epoch  35 loss  0.15131087601184845\n",
            "Epoch  36 loss  0.14574481546878815\n",
            "Epoch  37 loss  0.14107559621334076\n",
            "Epoch  38 loss  0.13715821504592896\n",
            "Epoch  39 loss  0.13375627994537354\n",
            "Epoch  40 loss  0.1307382434606552\n",
            "Epoch  41 loss  0.12810423970222473\n",
            "Epoch  42 loss  0.12591500580310822\n",
            "Epoch  43 loss  0.12416157871484756\n",
            "Epoch  44 loss  0.12271885573863983\n",
            "Epoch  45 loss  0.12140385806560516\n",
            "Epoch  46 loss  0.12020039558410645\n",
            "Epoch  47 loss  0.11916638165712357\n",
            "Epoch  48 loss  0.118430495262146\n",
            "Epoch  49 loss  0.11807779967784882\n",
            "Epoch  50 loss  0.11777250468730927\n",
            "Epoch  51 loss  0.11746587604284286\n",
            "Epoch  52 loss  0.11718691140413284\n",
            "Epoch  53 loss  0.11691156774759293\n",
            "Epoch  54 loss  0.11674380302429199\n",
            "Epoch  55 loss  0.11655048280954361\n",
            "Epoch  56 loss  0.1163073405623436\n",
            "Epoch  57 loss  0.1160741001367569\n",
            "Epoch  58 loss  0.11589501798152924\n",
            "Epoch  59 loss  0.11572117358446121\n",
            "Epoch  60 loss  0.11560451239347458\n",
            "Epoch  61 loss  0.11548767238855362\n",
            "Epoch  62 loss  0.11542332172393799\n",
            "Epoch  63 loss  0.1153741329908371\n",
            "Epoch  64 loss  0.11526653915643692\n",
            "Epoch  65 loss  0.11514771729707718\n",
            "Epoch  66 loss  0.11507297307252884\n",
            "Epoch  67 loss  0.1150069534778595\n",
            "Epoch  68 loss  0.11491253226995468\n",
            "Epoch  69 loss  0.11481190472841263\n",
            "Epoch  70 loss  0.11471131443977356\n",
            "Epoch  71 loss  0.11456098407506943\n",
            "Epoch  72 loss  0.1146606057882309\n",
            "Epoch  73 loss  0.1146358847618103\n",
            "Epoch  74 loss  0.11450356990098953\n",
            "Epoch  75 loss  0.11425713449716568\n",
            "Epoch  76 loss  0.11415882408618927\n",
            "Epoch  77 loss  0.1140996664762497\n",
            "Epoch  78 loss  0.11396941542625427\n",
            "Epoch  79 loss  0.11394238471984863\n",
            "Epoch  80 loss  0.11393088102340698\n",
            "Epoch  81 loss  0.11388102173805237\n",
            "Epoch  82 loss  0.11382023245096207\n",
            "Epoch  83 loss  0.11373312026262283\n",
            "Epoch  84 loss  0.11359595507383347\n",
            "Epoch  85 loss  0.1136438250541687\n",
            "Epoch  86 loss  0.11363127827644348\n",
            "Epoch  87 loss  0.11355757713317871\n",
            "Epoch  88 loss  0.1134343296289444\n",
            "Epoch  89 loss  0.11326351016759872\n",
            "Epoch  90 loss  0.11309713870286942\n",
            "Epoch  91 loss  0.11306918412446976\n",
            "Epoch  92 loss  0.11296936869621277\n",
            "Epoch  93 loss  0.1128406822681427\n",
            "Epoch  94 loss  0.11280782520771027\n",
            "Epoch  95 loss  0.11276917904615402\n",
            "Epoch  96 loss  0.11264345049858093\n",
            "Epoch  97 loss  0.11249709874391556\n",
            "Epoch  98 loss  0.1125829890370369\n",
            "Epoch  99 loss  0.11256693303585052\n"
          ],
          "name": "stdout"
        }
      ]
    },
    {
      "cell_type": "code",
      "metadata": {
        "colab": {
          "base_uri": "https://localhost:8080/"
        },
        "id": "4ZFhqSyTKEoF",
        "outputId": "9b97a171-a1d6-473c-be94-88e7666ef0a8"
      },
      "source": [
        "torch.from_numpy(sc.transform(np.array([[40,22000]]))).float()"
      ],
      "execution_count": 19,
      "outputs": [
        {
          "output_type": "execute_result",
          "data": {
            "text/plain": [
              "tensor([[-0.1704, -1.5960]])"
            ]
          },
          "metadata": {
            "tags": []
          },
          "execution_count": 19
        }
      ]
    },
    {
      "cell_type": "code",
      "metadata": {
        "colab": {
          "base_uri": "https://localhost:8080/"
        },
        "id": "NLqJTX9AKJlM",
        "outputId": "004f99a4-758d-42ea-cc7c-fcc804ddd447"
      },
      "source": [
        "y_cust_20_40000 = model(torch.from_numpy(sc.transform(np.array([[40,22000]]))).float())\n",
        "y_cust_20_40000"
      ],
      "execution_count": 20,
      "outputs": [
        {
          "output_type": "execute_result",
          "data": {
            "text/plain": [
              "tensor([[-0.0158, -4.1538]], grad_fn=<LogSoftmaxBackward>)"
            ]
          },
          "metadata": {
            "tags": []
          },
          "execution_count": 20
        }
      ]
    },
    {
      "cell_type": "code",
      "metadata": {
        "colab": {
          "base_uri": "https://localhost:8080/"
        },
        "id": "OedXFShlKMMV",
        "outputId": "96251c59-f6b8-4550-b031-e2e828142f63"
      },
      "source": [
        "_,predicted_20_40000 = torch.max(y_cust_20_40000,-1)\n",
        "predicted_20_40000"
      ],
      "execution_count": 21,
      "outputs": [
        {
          "output_type": "execute_result",
          "data": {
            "text/plain": [
              "tensor([0])"
            ]
          },
          "metadata": {
            "tags": []
          },
          "execution_count": 21
        }
      ]
    },
    {
      "cell_type": "markdown",
      "metadata": {
        "id": "fY2mRc4vKUXU"
      },
      "source": [
        "# Export model to ONNX format"
      ]
    },
    {
      "cell_type": "code",
      "metadata": {
        "id": "A4IND08wKOHg"
      },
      "source": [
        "sample_tensor = torch.from_numpy(sc.transform(np.array([[40,20000]]))).float()"
      ],
      "execution_count": 22,
      "outputs": []
    },
    {
      "cell_type": "code",
      "metadata": {
        "id": "gRpmCwGDKpbo"
      },
      "source": [
        "torch.onnx.export(model,sample_tensor,'customer.onnx',export_params=True)"
      ],
      "execution_count": 23,
      "outputs": []
    },
    {
      "cell_type": "code",
      "metadata": {
        "colab": {
          "base_uri": "https://localhost:8080/"
        },
        "id": "melZOXLuK9fL",
        "outputId": "0c18cd69-eba2-4829-9b01-72f2e1dec130"
      },
      "source": [
        "!ls"
      ],
      "execution_count": 24,
      "outputs": [
        {
          "output_type": "stream",
          "text": [
            "customer.onnx  sample_data  storepurchasedata_large.csv\n"
          ],
          "name": "stdout"
        }
      ]
    },
    {
      "cell_type": "markdown",
      "metadata": {
        "id": "z0PdiIl5LEeQ"
      },
      "source": [
        "##load model to tensorflow"
      ]
    },
    {
      "cell_type": "code",
      "metadata": {
        "colab": {
          "base_uri": "https://localhost:8080/"
        },
        "id": "byTWBLkZK-80",
        "outputId": "1bead08c-9259-4baf-97ca-fe48f239094b"
      },
      "source": [
        "!pip install onnx"
      ],
      "execution_count": 25,
      "outputs": [
        {
          "output_type": "stream",
          "text": [
            "Collecting onnx\n",
            "\u001b[?25l  Downloading https://files.pythonhosted.org/packages/3f/9b/54c950d3256e27f970a83cd0504efb183a24312702deed0179453316dbd0/onnx-1.9.0-cp37-cp37m-manylinux2010_x86_64.whl (12.2MB)\n",
            "\u001b[K     |████████████████████████████████| 12.2MB 290kB/s \n",
            "\u001b[?25hRequirement already satisfied: typing-extensions>=3.6.2.1 in /usr/local/lib/python3.7/dist-packages (from onnx) (3.7.4.3)\n",
            "Requirement already satisfied: six in /usr/local/lib/python3.7/dist-packages (from onnx) (1.15.0)\n",
            "Requirement already satisfied: numpy>=1.16.6 in /usr/local/lib/python3.7/dist-packages (from onnx) (1.19.5)\n",
            "Requirement already satisfied: protobuf in /usr/local/lib/python3.7/dist-packages (from onnx) (3.12.4)\n",
            "Requirement already satisfied: setuptools in /usr/local/lib/python3.7/dist-packages (from protobuf->onnx) (56.1.0)\n",
            "Installing collected packages: onnx\n",
            "Successfully installed onnx-1.9.0\n"
          ],
          "name": "stdout"
        }
      ]
    },
    {
      "cell_type": "code",
      "metadata": {
        "colab": {
          "base_uri": "https://localhost:8080/"
        },
        "id": "wezLdSujLKhw",
        "outputId": "51a9a9bb-e871-4a36-ad93-47feff9dd8e4"
      },
      "source": [
        "!pip install onnx_tf"
      ],
      "execution_count": 26,
      "outputs": [
        {
          "output_type": "stream",
          "text": [
            "Collecting onnx_tf\n",
            "\u001b[?25l  Downloading https://files.pythonhosted.org/packages/ac/24/68207818c961d078cb41bbcd149ee8627684911b2bc8f2acd0ae17689da2/onnx_tf-1.8.0-py3-none-any.whl (219kB)\n",
            "\u001b[K     |████████████████████████████████| 225kB 3.0MB/s \n",
            "\u001b[?25hCollecting tensorflow-addons\n",
            "\u001b[?25l  Downloading https://files.pythonhosted.org/packages/66/4b/e893d194e626c24b3df2253066aa418f46a432fdb68250cde14bf9bb0700/tensorflow_addons-0.13.0-cp37-cp37m-manylinux2010_x86_64.whl (679kB)\n",
            "\u001b[K     |████████████████████████████████| 686kB 14.9MB/s \n",
            "\u001b[?25hRequirement already satisfied: onnx>=1.8.0 in /usr/local/lib/python3.7/dist-packages (from onnx_tf) (1.9.0)\n",
            "Requirement already satisfied: PyYAML in /usr/local/lib/python3.7/dist-packages (from onnx_tf) (3.13)\n",
            "Requirement already satisfied: typeguard>=2.7 in /usr/local/lib/python3.7/dist-packages (from tensorflow-addons->onnx_tf) (2.7.1)\n",
            "Requirement already satisfied: six in /usr/local/lib/python3.7/dist-packages (from onnx>=1.8.0->onnx_tf) (1.15.0)\n",
            "Requirement already satisfied: numpy>=1.16.6 in /usr/local/lib/python3.7/dist-packages (from onnx>=1.8.0->onnx_tf) (1.19.5)\n",
            "Requirement already satisfied: protobuf in /usr/local/lib/python3.7/dist-packages (from onnx>=1.8.0->onnx_tf) (3.12.4)\n",
            "Requirement already satisfied: typing-extensions>=3.6.2.1 in /usr/local/lib/python3.7/dist-packages (from onnx>=1.8.0->onnx_tf) (3.7.4.3)\n",
            "Requirement already satisfied: setuptools in /usr/local/lib/python3.7/dist-packages (from protobuf->onnx>=1.8.0->onnx_tf) (56.1.0)\n",
            "Installing collected packages: tensorflow-addons, onnx-tf\n",
            "Successfully installed onnx-tf-1.8.0 tensorflow-addons-0.13.0\n"
          ],
          "name": "stdout"
        }
      ]
    },
    {
      "cell_type": "code",
      "metadata": {
        "id": "CtrbKBjRLP-a"
      },
      "source": [
        "import onnx\n",
        "import onnx_tf\n",
        "import tensorflow_addons\n",
        "from onnx_tf.backend import prepare"
      ],
      "execution_count": 28,
      "outputs": []
    },
    {
      "cell_type": "code",
      "metadata": {
        "id": "G_T7iQ8ALcdl"
      },
      "source": [
        "onnx_model=onnx.load('customer.onnx')"
      ],
      "execution_count": 29,
      "outputs": []
    },
    {
      "cell_type": "code",
      "metadata": {
        "id": "iMh4fN1zMpDh"
      },
      "source": [
        "tf_rep = prepare(onnx_model)"
      ],
      "execution_count": 30,
      "outputs": []
    },
    {
      "cell_type": "code",
      "metadata": {
        "id": "dwUKgISzMvBZ"
      },
      "source": [
        "prediction = tf_rep.run((sc.transform(np.array([[42,50000]],dtype=np.float32))))"
      ],
      "execution_count": 40,
      "outputs": []
    },
    {
      "cell_type": "code",
      "metadata": {
        "colab": {
          "base_uri": "https://localhost:8080/"
        },
        "id": "DYJrcPc-M_Jw",
        "outputId": "a0669b00-77b1-4fb9-8a6f-3581f9ae0068"
      },
      "source": [
        "prediction"
      ],
      "execution_count": 41,
      "outputs": [
        {
          "output_type": "execute_result",
          "data": {
            "text/plain": [
              "Outputs(_0=array([[-1.4355416 , -0.27179092]], dtype=float32))"
            ]
          },
          "metadata": {
            "tags": []
          },
          "execution_count": 41
        }
      ]
    },
    {
      "cell_type": "code",
      "metadata": {
        "id": "9YpjDcXDT0yh"
      },
      "source": [
        ""
      ],
      "execution_count": null,
      "outputs": []
    }
  ]
}