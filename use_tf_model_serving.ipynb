{
  "nbformat": 4,
  "nbformat_minor": 0,
  "metadata": {
    "colab": {
      "name": "use_tf_model_serving.ipynb",
      "provenance": [],
      "authorship_tag": "ABX9TyOFJ37dXPxX/Eg3NiqQUeeS",
      "include_colab_link": true
    },
    "kernelspec": {
      "name": "python3",
      "display_name": "Python 3"
    },
    "language_info": {
      "name": "python"
    }
  },
  "cells": [
    {
      "cell_type": "markdown",
      "metadata": {
        "id": "view-in-github",
        "colab_type": "text"
      },
      "source": [
        "<a href=\"https://colab.research.google.com/github/TottiPuc/clasificador/blob/master/use_tf_model_serving.ipynb\" target=\"_parent\"><img src=\"https://colab.research.google.com/assets/colab-badge.svg\" alt=\"Open In Colab\"/></a>"
      ]
    },
    {
      "cell_type": "code",
      "metadata": {
        "id": "Hg61SGIZ9UkT"
      },
      "source": [
        "import json\n",
        "import requests\n",
        "import numpy as np\n",
        "import pickle"
      ],
      "execution_count": 1,
      "outputs": []
    },
    {
      "cell_type": "code",
      "metadata": {
        "colab": {
          "base_uri": "https://localhost:8080/"
        },
        "id": "z9J2gbbe9cdS",
        "outputId": "897eba75-9160-46e5-8e02-5c990f7a06aa"
      },
      "source": [
        "!wget https://github.com/TottiPuc/clasificador/raw/master/sc.pickle"
      ],
      "execution_count": 2,
      "outputs": [
        {
          "output_type": "stream",
          "text": [
            "--2021-05-29 02:31:25--  https://github.com/TottiPuc/clasificador/raw/master/sc.pickle\n",
            "Resolving github.com (github.com)... 192.30.255.113\n",
            "Connecting to github.com (github.com)|192.30.255.113|:443... connected.\n",
            "HTTP request sent, awaiting response... 302 Found\n",
            "Location: https://raw.githubusercontent.com/TottiPuc/clasificador/master/sc.pickle [following]\n",
            "--2021-05-29 02:31:25--  https://raw.githubusercontent.com/TottiPuc/clasificador/master/sc.pickle\n",
            "Resolving raw.githubusercontent.com (raw.githubusercontent.com)... 185.199.108.133, 185.199.109.133, 185.199.110.133, ...\n",
            "Connecting to raw.githubusercontent.com (raw.githubusercontent.com)|185.199.108.133|:443... connected.\n",
            "HTTP request sent, awaiting response... 200 OK\n",
            "Length: 498 [application/octet-stream]\n",
            "Saving to: ‘sc.pickle’\n",
            "\n",
            "sc.pickle           100%[===================>]     498  --.-KB/s    in 0s      \n",
            "\n",
            "2021-05-29 02:31:25 (22.8 MB/s) - ‘sc.pickle’ saved [498/498]\n",
            "\n"
          ],
          "name": "stdout"
        }
      ]
    },
    {
      "cell_type": "code",
      "metadata": {
        "colab": {
          "base_uri": "https://localhost:8080/"
        },
        "id": "-X4BIlRY9nvo",
        "outputId": "238ed66f-1f77-4038-af95-c293aeb41e1c"
      },
      "source": [
        "scaler_colab = pickle.load(open('sc.pickle','rb'))"
      ],
      "execution_count": 4,
      "outputs": [
        {
          "output_type": "stream",
          "text": [
            "/usr/local/lib/python3.7/dist-packages/sklearn/base.py:318: UserWarning: Trying to unpickle estimator StandardScaler from version 0.24.1 when using version 0.22.2.post1. This might lead to breaking code or invalid results. Use at your own risk.\n",
            "  UserWarning)\n"
          ],
          "name": "stderr"
        }
      ]
    },
    {
      "cell_type": "code",
      "metadata": {
        "colab": {
          "base_uri": "https://localhost:8080/"
        },
        "id": "DAvvXmwh9vvw",
        "outputId": "56ca5554-01c3-4da8-8cdd-0a90f0039cfb"
      },
      "source": [
        "scaler_colab.transform(np.array([[20,40000]]))"
      ],
      "execution_count": 5,
      "outputs": [
        {
          "output_type": "execute_result",
          "data": {
            "text/plain": [
              "array([[-1.92663609, -0.68061391]])"
            ]
          },
          "metadata": {
            "tags": []
          },
          "execution_count": 5
        }
      ]
    },
    {
      "cell_type": "code",
      "metadata": {
        "id": "CAxogngc94Qk"
      },
      "source": [
        "url = 'http://35.223.73.90:8501/v1/models/customer_behavior_model:predict'"
      ],
      "execution_count": 11,
      "outputs": []
    },
    {
      "cell_type": "code",
      "metadata": {
        "id": "_RgeTLPM-OCo"
      },
      "source": [
        "request_data = json.dumps({'signature_name':'serving_default',\n",
        "                           'instances': [[-1.43318661, -0.47466685],[0.2345214460208433,0.03675871227617118]]})"
      ],
      "execution_count": 12,
      "outputs": []
    },
    {
      "cell_type": "code",
      "metadata": {
        "id": "Q_m_7o1w_NR7"
      },
      "source": [
        "json_response = requests.post(url,request_data)"
      ],
      "execution_count": 13,
      "outputs": []
    },
    {
      "cell_type": "code",
      "metadata": {
        "colab": {
          "base_uri": "https://localhost:8080/"
        },
        "id": "0tP5UXoP_aC3",
        "outputId": "b5f14b24-3f42-4459-9594-900d3b9e71a7"
      },
      "source": [
        "print(json_response.text)"
      ],
      "execution_count": 14,
      "outputs": [
        {
          "output_type": "stream",
          "text": [
            "{\n",
            "    \"predictions\": [[0.92745626, 0.0725437477], [0.000602722808, 0.999397278]\n",
            "    ]\n",
            "}\n"
          ],
          "name": "stdout"
        }
      ]
    },
    {
      "cell_type": "code",
      "metadata": {
        "id": "faLyF_og_pbW"
      },
      "source": [
        ""
      ],
      "execution_count": null,
      "outputs": []
    }
  ]
}