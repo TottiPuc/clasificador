{
  "nbformat": 4,
  "nbformat_minor": 0,
  "metadata": {
    "colab": {
      "name": "pytorch_create_save.ipynb",
      "provenance": [],
      "authorship_tag": "ABX9TyNo2K0JbG8iu7rYCjjKjSmt",
      "include_colab_link": true
    },
    "kernelspec": {
      "name": "python3",
      "display_name": "Python 3"
    },
    "language_info": {
      "name": "python"
    }
  },
  "cells": [
    {
      "cell_type": "markdown",
      "metadata": {
        "id": "view-in-github",
        "colab_type": "text"
      },
      "source": [
        "<a href=\"https://colab.research.google.com/github/TottiPuc/clasificador/blob/master/pytorch_create_save.ipynb\" target=\"_parent\"><img src=\"https://colab.research.google.com/assets/colab-badge.svg\" alt=\"Open In Colab\"/></a>"
      ]
    },
    {
      "cell_type": "code",
      "metadata": {
        "id": "sRMw9IfBIz5I"
      },
      "source": [
        "import torch\n",
        "import torch.nn as nn\n",
        "from torch.nn import functional as F\n",
        "from sklearn.model_selection import train_test_split\n",
        "from sklearn.preprocessing import StandardScaler\n",
        "import torch.optim as optim\n",
        "import pandas as pd\n",
        "import numpy as np"
      ],
      "execution_count": 14,
      "outputs": []
    },
    {
      "cell_type": "code",
      "metadata": {
        "id": "dyZ1TurjJHng"
      },
      "source": [
        "df = pd.read_csv(\"https://github.com/TottiPuc/clasificador/raw/master/storepurchasedata_large.csv\")"
      ],
      "execution_count": 2,
      "outputs": []
    },
    {
      "cell_type": "code",
      "metadata": {
        "colab": {
          "base_uri": "https://localhost:8080/",
          "height": 297
        },
        "id": "GRTMnHN0LGGP",
        "outputId": "1852bc23-a83c-417a-ed22-c6bc3977609e"
      },
      "source": [
        "df.describe()"
      ],
      "execution_count": 3,
      "outputs": [
        {
          "output_type": "execute_result",
          "data": {
            "text/html": [
              "<div>\n",
              "<style scoped>\n",
              "    .dataframe tbody tr th:only-of-type {\n",
              "        vertical-align: middle;\n",
              "    }\n",
              "\n",
              "    .dataframe tbody tr th {\n",
              "        vertical-align: top;\n",
              "    }\n",
              "\n",
              "    .dataframe thead th {\n",
              "        text-align: right;\n",
              "    }\n",
              "</style>\n",
              "<table border=\"1\" class=\"dataframe\">\n",
              "  <thead>\n",
              "    <tr style=\"text-align: right;\">\n",
              "      <th></th>\n",
              "      <th>Age</th>\n",
              "      <th>Salary</th>\n",
              "      <th>Purchased</th>\n",
              "    </tr>\n",
              "  </thead>\n",
              "  <tbody>\n",
              "    <tr>\n",
              "      <th>count</th>\n",
              "      <td>1554.000000</td>\n",
              "      <td>1554.000000</td>\n",
              "      <td>1554.000000</td>\n",
              "    </tr>\n",
              "    <tr>\n",
              "      <th>mean</th>\n",
              "      <td>44.296010</td>\n",
              "      <td>57042.471042</td>\n",
              "      <td>0.694981</td>\n",
              "    </tr>\n",
              "    <tr>\n",
              "      <th>std</th>\n",
              "      <td>17.462458</td>\n",
              "      <td>21209.244800</td>\n",
              "      <td>0.460564</td>\n",
              "    </tr>\n",
              "    <tr>\n",
              "      <th>min</th>\n",
              "      <td>18.000000</td>\n",
              "      <td>20000.000000</td>\n",
              "      <td>0.000000</td>\n",
              "    </tr>\n",
              "    <tr>\n",
              "      <th>25%</th>\n",
              "      <td>27.000000</td>\n",
              "      <td>46000.000000</td>\n",
              "      <td>0.000000</td>\n",
              "    </tr>\n",
              "    <tr>\n",
              "      <th>50%</th>\n",
              "      <td>43.000000</td>\n",
              "      <td>60000.000000</td>\n",
              "      <td>1.000000</td>\n",
              "    </tr>\n",
              "    <tr>\n",
              "      <th>75%</th>\n",
              "      <td>62.000000</td>\n",
              "      <td>66000.000000</td>\n",
              "      <td>1.000000</td>\n",
              "    </tr>\n",
              "    <tr>\n",
              "      <th>max</th>\n",
              "      <td>69.000000</td>\n",
              "      <td>96000.000000</td>\n",
              "      <td>1.000000</td>\n",
              "    </tr>\n",
              "  </tbody>\n",
              "</table>\n",
              "</div>"
            ],
            "text/plain": [
              "               Age        Salary    Purchased\n",
              "count  1554.000000   1554.000000  1554.000000\n",
              "mean     44.296010  57042.471042     0.694981\n",
              "std      17.462458  21209.244800     0.460564\n",
              "min      18.000000  20000.000000     0.000000\n",
              "25%      27.000000  46000.000000     0.000000\n",
              "50%      43.000000  60000.000000     1.000000\n",
              "75%      62.000000  66000.000000     1.000000\n",
              "max      69.000000  96000.000000     1.000000"
            ]
          },
          "metadata": {
            "tags": []
          },
          "execution_count": 3
        }
      ]
    },
    {
      "cell_type": "code",
      "metadata": {
        "id": "gJdujGpJLIX0"
      },
      "source": [
        "X = df.iloc[:,:-1].values\n",
        "Y = df.iloc[:,-1].values"
      ],
      "execution_count": 4,
      "outputs": []
    },
    {
      "cell_type": "code",
      "metadata": {
        "id": "Ra9J5fsSLfek"
      },
      "source": [
        "X_train, X_test, y_train, y_test = train_test_split(X,Y,test_size=0.20, random_state=0)"
      ],
      "execution_count": 5,
      "outputs": []
    },
    {
      "cell_type": "code",
      "metadata": {
        "id": "gQZZzb01L3lx"
      },
      "source": [
        "sc = StandardScaler()\n",
        "X_train = sc.fit_transform(X_train)\n",
        "X_test = sc.fit_transform(X_test)"
      ],
      "execution_count": 6,
      "outputs": []
    },
    {
      "cell_type": "code",
      "metadata": {
        "id": "O5rhQszMMXnv"
      },
      "source": [
        "Xtrain_ = torch.from_numpy(X_train).float()\n",
        "Xtest_ = torch.from_numpy(X_test).float()"
      ],
      "execution_count": 7,
      "outputs": []
    },
    {
      "cell_type": "code",
      "metadata": {
        "colab": {
          "base_uri": "https://localhost:8080/"
        },
        "id": "IWdyD1HJb-Z4",
        "outputId": "fac979a0-54fc-4148-af65-98cf8a10da4c"
      },
      "source": [
        "Xtrain_.shape, Xtest_.shape, "
      ],
      "execution_count": 8,
      "outputs": [
        {
          "output_type": "execute_result",
          "data": {
            "text/plain": [
              "(torch.Size([1243, 2]), torch.Size([311, 2]))"
            ]
          },
          "metadata": {
            "tags": []
          },
          "execution_count": 8
        }
      ]
    },
    {
      "cell_type": "code",
      "metadata": {
        "id": "IUB95oDKiTy6"
      },
      "source": [
        "Ytrain_ = torch.from_numpy(y_train)\n",
        "Ytest_ = torch.from_numpy(y_test)"
      ],
      "execution_count": 17,
      "outputs": []
    },
    {
      "cell_type": "code",
      "metadata": {
        "id": "4v7fn7HdcPR1"
      },
      "source": [
        "input_size=2\n",
        "output_size=2\n",
        "hidden_size=10"
      ],
      "execution_count": 9,
      "outputs": []
    },
    {
      "cell_type": "code",
      "metadata": {
        "id": "tIEZIQ88e_ss"
      },
      "source": [
        "class Net(nn.Module):\n",
        "  def __init__(self):\n",
        "    super(Net, self).__init__()\n",
        "    self.fc1 = torch.nn.Linear(input_size,hidden_size)\n",
        "    self.fc2 = torch.nn.Linear(hidden_size,hidden_size)\n",
        "    self.fc3 = torch.nn.Linear(hidden_size,output_size)\n",
        "\n",
        "  def forward(self,X):\n",
        "    X=torch.relu((self.fc1(X)))\n",
        "    X=torch.relu((self.fc2(X)))\n",
        "    X=self.fc3(X)\n",
        "\n",
        "    return F.log_softmax(X,dim=1)"
      ],
      "execution_count": 12,
      "outputs": []
    },
    {
      "cell_type": "code",
      "metadata": {
        "id": "r4Za2iyYgHjP"
      },
      "source": [
        "model=Net()"
      ],
      "execution_count": 13,
      "outputs": []
    },
    {
      "cell_type": "code",
      "metadata": {
        "id": "5WzWA6eHgUse"
      },
      "source": [
        "optimizer = optim.Adam(model.parameters(),lr=0.01)\n",
        "loss_fn = nn.NLLLoss()"
      ],
      "execution_count": 15,
      "outputs": []
    },
    {
      "cell_type": "code",
      "metadata": {
        "id": "aSgQVEPyhXiQ"
      },
      "source": [
        "epochs=100"
      ],
      "execution_count": 16,
      "outputs": []
    },
    {
      "cell_type": "code",
      "metadata": {
        "colab": {
          "base_uri": "https://localhost:8080/"
        },
        "id": "cDB6lGHwheX4",
        "outputId": "595f3078-4b5c-4a4f-9af7-a373cac8bfac"
      },
      "source": [
        "for epoch in range(epochs):\n",
        "  optimizer.zero_grad()\n",
        "  Ypred = model(Xtrain_)\n",
        "  loss = loss_fn(Ypred, Ytrain_)\n",
        "  loss.backward()\n",
        "  optimizer.step()\n",
        "  print('Epoch ', epoch, 'loss ', loss.item())"
      ],
      "execution_count": 18,
      "outputs": [
        {
          "output_type": "stream",
          "text": [
            "Epoch  0 loss  0.7929921746253967\n",
            "Epoch  1 loss  0.7718665599822998\n",
            "Epoch  2 loss  0.7520915269851685\n",
            "Epoch  3 loss  0.7336083650588989\n",
            "Epoch  4 loss  0.7157862782478333\n",
            "Epoch  5 loss  0.6976087093353271\n",
            "Epoch  6 loss  0.6783786416053772\n",
            "Epoch  7 loss  0.6583902835845947\n",
            "Epoch  8 loss  0.6366864442825317\n",
            "Epoch  9 loss  0.6134529113769531\n",
            "Epoch  10 loss  0.58921879529953\n",
            "Epoch  11 loss  0.5642188787460327\n",
            "Epoch  12 loss  0.5393548607826233\n",
            "Epoch  13 loss  0.5152455568313599\n",
            "Epoch  14 loss  0.49198710918426514\n",
            "Epoch  15 loss  0.4701276421546936\n",
            "Epoch  16 loss  0.450001984834671\n",
            "Epoch  17 loss  0.43152061104774475\n",
            "Epoch  18 loss  0.4143925607204437\n",
            "Epoch  19 loss  0.39839088916778564\n",
            "Epoch  20 loss  0.3835430145263672\n",
            "Epoch  21 loss  0.3692310154438019\n",
            "Epoch  22 loss  0.3549734354019165\n",
            "Epoch  23 loss  0.3403892517089844\n",
            "Epoch  24 loss  0.32546377182006836\n",
            "Epoch  25 loss  0.3103197515010834\n",
            "Epoch  26 loss  0.2953605651855469\n",
            "Epoch  27 loss  0.2806088924407959\n",
            "Epoch  28 loss  0.2663220763206482\n",
            "Epoch  29 loss  0.2527400255203247\n",
            "Epoch  30 loss  0.23991665244102478\n",
            "Epoch  31 loss  0.22800682485103607\n",
            "Epoch  32 loss  0.21754980087280273\n",
            "Epoch  33 loss  0.20784100890159607\n",
            "Epoch  34 loss  0.19858989119529724\n",
            "Epoch  35 loss  0.1896599382162094\n",
            "Epoch  36 loss  0.1812034547328949\n",
            "Epoch  37 loss  0.17322073876857758\n",
            "Epoch  38 loss  0.1658361405134201\n",
            "Epoch  39 loss  0.15921622514724731\n",
            "Epoch  40 loss  0.15331493318080902\n",
            "Epoch  41 loss  0.14825861155986786\n",
            "Epoch  42 loss  0.14390818774700165\n",
            "Epoch  43 loss  0.14019493758678436\n",
            "Epoch  44 loss  0.1369987428188324\n",
            "Epoch  45 loss  0.13412027060985565\n",
            "Epoch  46 loss  0.1315736472606659\n",
            "Epoch  47 loss  0.1293807476758957\n",
            "Epoch  48 loss  0.12744773924350739\n",
            "Epoch  49 loss  0.1257549226284027\n",
            "Epoch  50 loss  0.12427514046430588\n",
            "Epoch  51 loss  0.12303417921066284\n",
            "Epoch  52 loss  0.1219911128282547\n",
            "Epoch  53 loss  0.12106014043092728\n",
            "Epoch  54 loss  0.12024962902069092\n",
            "Epoch  55 loss  0.119444340467453\n",
            "Epoch  56 loss  0.11858448386192322\n",
            "Epoch  57 loss  0.1176772266626358\n",
            "Epoch  58 loss  0.11675718426704407\n",
            "Epoch  59 loss  0.11587647348642349\n",
            "Epoch  60 loss  0.11504136025905609\n",
            "Epoch  61 loss  0.11425737291574478\n",
            "Epoch  62 loss  0.11351365596055984\n",
            "Epoch  63 loss  0.11287832260131836\n",
            "Epoch  64 loss  0.11227791756391525\n",
            "Epoch  65 loss  0.11190076172351837\n",
            "Epoch  66 loss  0.11156735569238663\n",
            "Epoch  67 loss  0.1112409457564354\n",
            "Epoch  68 loss  0.11089043319225311\n",
            "Epoch  69 loss  0.11052913218736649\n",
            "Epoch  70 loss  0.11009040474891663\n",
            "Epoch  71 loss  0.10963601619005203\n",
            "Epoch  72 loss  0.10915543884038925\n",
            "Epoch  73 loss  0.10865632444620132\n",
            "Epoch  74 loss  0.10815498232841492\n",
            "Epoch  75 loss  0.10765784233808517\n",
            "Epoch  76 loss  0.10724718868732452\n",
            "Epoch  77 loss  0.1068744882941246\n",
            "Epoch  78 loss  0.10649821907281876\n",
            "Epoch  79 loss  0.10611109435558319\n",
            "Epoch  80 loss  0.10568178445100784\n",
            "Epoch  81 loss  0.10523893684148788\n",
            "Epoch  82 loss  0.10500670224428177\n",
            "Epoch  83 loss  0.10490576177835464\n",
            "Epoch  84 loss  0.1047515720129013\n",
            "Epoch  85 loss  0.10451597720384598\n",
            "Epoch  86 loss  0.10426586866378784\n",
            "Epoch  87 loss  0.1040489673614502\n",
            "Epoch  88 loss  0.10385730862617493\n",
            "Epoch  89 loss  0.10365784168243408\n",
            "Epoch  90 loss  0.10344723612070084\n",
            "Epoch  91 loss  0.10322568565607071\n",
            "Epoch  92 loss  0.10300588607788086\n",
            "Epoch  93 loss  0.10272511839866638\n",
            "Epoch  94 loss  0.10241010785102844\n",
            "Epoch  95 loss  0.1020607128739357\n",
            "Epoch  96 loss  0.10179519653320312\n",
            "Epoch  97 loss  0.1016547679901123\n",
            "Epoch  98 loss  0.10147663950920105\n",
            "Epoch  99 loss  0.1012759655714035\n"
          ],
          "name": "stdout"
        }
      ]
    },
    {
      "cell_type": "code",
      "metadata": {
        "colab": {
          "base_uri": "https://localhost:8080/"
        },
        "id": "zPcK4RrCi4_C",
        "outputId": "f50e20fa-db93-48e4-eded-26710de72442"
      },
      "source": [
        "list(model.parameters())"
      ],
      "execution_count": 19,
      "outputs": [
        {
          "output_type": "execute_result",
          "data": {
            "text/plain": [
              "[Parameter containing:\n",
              " tensor([[ 0.0815, -1.1154],\n",
              "         [-0.4264,  0.7409],\n",
              "         [-0.2924,  0.7135],\n",
              "         [ 0.9104,  0.1365],\n",
              "         [ 0.0743,  1.0009],\n",
              "         [-0.6860, -0.8065],\n",
              "         [ 0.5314,  0.5557],\n",
              "         [-0.6197,  0.5012],\n",
              "         [ 1.0743,  0.5210],\n",
              "         [ 0.8745,  0.1090]], requires_grad=True), Parameter containing:\n",
              " tensor([-0.2454,  0.3423,  0.7516,  0.3724, -0.0149,  0.3195, -0.1410, -0.7008,\n",
              "          0.5806,  0.3602], requires_grad=True), Parameter containing:\n",
              " tensor([[ 0.4895,  0.1116,  0.2095,  0.6211,  0.6193, -0.6795,  0.5043, -0.1263,\n",
              "           0.7003,  0.4613],\n",
              "         [-0.1014,  0.1715, -0.2225,  0.0269, -0.3676, -0.0916,  0.2205,  0.1889,\n",
              "          -0.0608,  0.0989],\n",
              "         [-0.0481,  0.6516,  0.4326,  0.5160,  0.1627, -0.3272, -0.0363, -0.7043,\n",
              "           0.2667,  0.4842],\n",
              "         [-0.6784,  0.7390,  0.3212,  0.2279,  0.6587, -0.4292,  0.6384, -0.0842,\n",
              "           0.2615,  0.3579],\n",
              "         [-0.0609, -0.0832, -0.4188,  0.1102, -0.1093, -0.2067,  0.1586, -0.0213,\n",
              "           0.0652, -0.3341],\n",
              "         [ 0.4878, -0.0061,  0.2153,  0.0229, -0.3127,  0.6476, -0.3352,  0.2278,\n",
              "          -0.4949, -0.8098],\n",
              "         [-0.6659,  0.5317,  0.5437,  0.0398,  0.6205, -0.3840,  0.4802, -0.0769,\n",
              "           0.3673,  0.4963],\n",
              "         [ 0.3984,  0.7030,  0.3971,  0.4702,  0.3775, -0.4695,  0.1038, -0.4161,\n",
              "           0.4268,  0.7331],\n",
              "         [ 0.6329, -0.5032,  0.3045, -1.0353, -0.1086,  0.8129, -0.2272,  0.5304,\n",
              "          -0.4309, -0.5151],\n",
              "         [-0.1519, -0.2191, -0.0855, -0.1484, -0.3071, -0.2485,  0.1489, -0.2704,\n",
              "          -0.1220,  0.1696]], requires_grad=True), Parameter containing:\n",
              " tensor([ 0.1457, -0.1834,  0.3009,  0.3870, -0.4018,  0.3032,  0.1974,  0.0656,\n",
              "          0.3415, -0.0751], requires_grad=True), Parameter containing:\n",
              " tensor([[-0.6311,  0.0233, -0.2412, -0.6435,  0.1590,  0.5971, -0.4968, -0.4371,\n",
              "           0.7853,  0.2092],\n",
              "         [ 0.2822, -0.1083,  0.6903,  0.1601,  0.2617, -0.3259,  0.6774,  0.9104,\n",
              "          -0.4359, -0.0267]], requires_grad=True), Parameter containing:\n",
              " tensor([0.0764, 0.0310], requires_grad=True)]"
            ]
          },
          "metadata": {
            "tags": []
          },
          "execution_count": 19
        }
      ]
    },
    {
      "cell_type": "code",
      "metadata": {
        "colab": {
          "base_uri": "https://localhost:8080/"
        },
        "id": "Odno1RNTjG4H",
        "outputId": "7d856823-ffaf-42c8-d536-0af0f9a1b2f0"
      },
      "source": [
        "torch.from_numpy(sc.transform(np.array([[40,22000]]))).float()"
      ],
      "execution_count": 20,
      "outputs": [
        {
          "output_type": "execute_result",
          "data": {
            "text/plain": [
              "tensor([[-0.1704, -1.5960]])"
            ]
          },
          "metadata": {
            "tags": []
          },
          "execution_count": 20
        }
      ]
    },
    {
      "cell_type": "code",
      "metadata": {
        "colab": {
          "base_uri": "https://localhost:8080/"
        },
        "id": "n5jxywmpjW3N",
        "outputId": "98800561-8123-456d-e16f-86421191fcb6"
      },
      "source": [
        "y_cust_20_40000 = model(torch.from_numpy(sc.transform(np.array([[40,22000]]))).float())\n",
        "y_cust_20_40000"
      ],
      "execution_count": 21,
      "outputs": [
        {
          "output_type": "execute_result",
          "data": {
            "text/plain": [
              "tensor([[-5.0172e-03, -5.2974e+00]], grad_fn=<LogSoftmaxBackward>)"
            ]
          },
          "metadata": {
            "tags": []
          },
          "execution_count": 21
        }
      ]
    },
    {
      "cell_type": "code",
      "metadata": {
        "colab": {
          "base_uri": "https://localhost:8080/"
        },
        "id": "mLh1eshcjnK1",
        "outputId": "34d72014-ad67-46b3-9085-87f1b5c65f27"
      },
      "source": [
        "_,predicted_20_40000 = torch.max(y_cust_20_40000,-1)\n",
        "predicted_20_40000"
      ],
      "execution_count": 22,
      "outputs": [
        {
          "output_type": "execute_result",
          "data": {
            "text/plain": [
              "tensor([0])"
            ]
          },
          "metadata": {
            "tags": []
          },
          "execution_count": 22
        }
      ]
    },
    {
      "cell_type": "code",
      "metadata": {
        "id": "wKpaeQ-1j9mp"
      },
      "source": [
        "torch.save(model,'customer_buy.pt')"
      ],
      "execution_count": 23,
      "outputs": []
    },
    {
      "cell_type": "code",
      "metadata": {
        "colab": {
          "base_uri": "https://localhost:8080/"
        },
        "id": "jw0lHj5xkeIC",
        "outputId": "5f64f023-d2e5-4079-89dc-7398109fb2f2"
      },
      "source": [
        "!ls"
      ],
      "execution_count": 24,
      "outputs": [
        {
          "output_type": "stream",
          "text": [
            "customer_buy.pt  sample_data\n"
          ],
          "name": "stdout"
        }
      ]
    },
    {
      "cell_type": "code",
      "metadata": {
        "id": "bdJQe4jXkfI2"
      },
      "source": [
        "restored_model = torch.load('customer_buy.pt')"
      ],
      "execution_count": 25,
      "outputs": []
    },
    {
      "cell_type": "code",
      "metadata": {
        "colab": {
          "base_uri": "https://localhost:8080/"
        },
        "id": "9F6oqxntyt73",
        "outputId": "e729a923-4e33-47fe-f030-e8964503e1b6"
      },
      "source": [
        "y_cust_20_40000 = restored_model(torch.from_numpy(sc.transform(np.array([[40,22000]]))).float())\n",
        "y_cust_20_40000"
      ],
      "execution_count": 26,
      "outputs": [
        {
          "output_type": "execute_result",
          "data": {
            "text/plain": [
              "tensor([[-5.0172e-03, -5.2974e+00]], grad_fn=<LogSoftmaxBackward>)"
            ]
          },
          "metadata": {
            "tags": []
          },
          "execution_count": 26
        }
      ]
    },
    {
      "cell_type": "code",
      "metadata": {
        "colab": {
          "base_uri": "https://localhost:8080/"
        },
        "id": "boFd3HOcy1YD",
        "outputId": "a62664e4-2c62-4048-8ae1-b2784b87d6d0"
      },
      "source": [
        "model.state_dict()"
      ],
      "execution_count": 27,
      "outputs": [
        {
          "output_type": "execute_result",
          "data": {
            "text/plain": [
              "OrderedDict([('fc1.weight', tensor([[ 0.0815, -1.1154],\n",
              "                      [-0.4264,  0.7409],\n",
              "                      [-0.2924,  0.7135],\n",
              "                      [ 0.9104,  0.1365],\n",
              "                      [ 0.0743,  1.0009],\n",
              "                      [-0.6860, -0.8065],\n",
              "                      [ 0.5314,  0.5557],\n",
              "                      [-0.6197,  0.5012],\n",
              "                      [ 1.0743,  0.5210],\n",
              "                      [ 0.8745,  0.1090]])),\n",
              "             ('fc1.bias',\n",
              "              tensor([-0.2454,  0.3423,  0.7516,  0.3724, -0.0149,  0.3195, -0.1410, -0.7008,\n",
              "                       0.5806,  0.3602])),\n",
              "             ('fc2.weight',\n",
              "              tensor([[ 0.4895,  0.1116,  0.2095,  0.6211,  0.6193, -0.6795,  0.5043, -0.1263,\n",
              "                        0.7003,  0.4613],\n",
              "                      [-0.1014,  0.1715, -0.2225,  0.0269, -0.3676, -0.0916,  0.2205,  0.1889,\n",
              "                       -0.0608,  0.0989],\n",
              "                      [-0.0481,  0.6516,  0.4326,  0.5160,  0.1627, -0.3272, -0.0363, -0.7043,\n",
              "                        0.2667,  0.4842],\n",
              "                      [-0.6784,  0.7390,  0.3212,  0.2279,  0.6587, -0.4292,  0.6384, -0.0842,\n",
              "                        0.2615,  0.3579],\n",
              "                      [-0.0609, -0.0832, -0.4188,  0.1102, -0.1093, -0.2067,  0.1586, -0.0213,\n",
              "                        0.0652, -0.3341],\n",
              "                      [ 0.4878, -0.0061,  0.2153,  0.0229, -0.3127,  0.6476, -0.3352,  0.2278,\n",
              "                       -0.4949, -0.8098],\n",
              "                      [-0.6659,  0.5317,  0.5437,  0.0398,  0.6205, -0.3840,  0.4802, -0.0769,\n",
              "                        0.3673,  0.4963],\n",
              "                      [ 0.3984,  0.7030,  0.3971,  0.4702,  0.3775, -0.4695,  0.1038, -0.4161,\n",
              "                        0.4268,  0.7331],\n",
              "                      [ 0.6329, -0.5032,  0.3045, -1.0353, -0.1086,  0.8129, -0.2272,  0.5304,\n",
              "                       -0.4309, -0.5151],\n",
              "                      [-0.1519, -0.2191, -0.0855, -0.1484, -0.3071, -0.2485,  0.1489, -0.2704,\n",
              "                       -0.1220,  0.1696]])),\n",
              "             ('fc2.bias',\n",
              "              tensor([ 0.1457, -0.1834,  0.3009,  0.3870, -0.4018,  0.3032,  0.1974,  0.0656,\n",
              "                       0.3415, -0.0751])),\n",
              "             ('fc3.weight',\n",
              "              tensor([[-0.6311,  0.0233, -0.2412, -0.6435,  0.1590,  0.5971, -0.4968, -0.4371,\n",
              "                        0.7853,  0.2092],\n",
              "                      [ 0.2822, -0.1083,  0.6903,  0.1601,  0.2617, -0.3259,  0.6774,  0.9104,\n",
              "                       -0.4359, -0.0267]])),\n",
              "             ('fc3.bias', tensor([0.0764, 0.0310]))])"
            ]
          },
          "metadata": {
            "tags": []
          },
          "execution_count": 27
        }
      ]
    },
    {
      "cell_type": "code",
      "metadata": {
        "id": "OADv9y7vznbs"
      },
      "source": [
        "torch.save(model.state_dict(),'customer_buy_state_dict')"
      ],
      "execution_count": 28,
      "outputs": []
    },
    {
      "cell_type": "code",
      "metadata": {
        "colab": {
          "base_uri": "https://localhost:8080/"
        },
        "id": "P6UNvou30Bl9",
        "outputId": "e0845d83-b166-4b65-f014-fc0331d32c05"
      },
      "source": [
        "!ls"
      ],
      "execution_count": 29,
      "outputs": [
        {
          "output_type": "stream",
          "text": [
            "customer_buy.pt  customer_buy_state_dict  sample_data\n"
          ],
          "name": "stdout"
        }
      ]
    },
    {
      "cell_type": "code",
      "metadata": {
        "colab": {
          "base_uri": "https://localhost:8080/"
        },
        "id": "mV7xIIBZ0DLk",
        "outputId": "81aba243-6be1-434b-f5dc-57f918c74e5d"
      },
      "source": [
        "!zip -r customer_buy_state_dict.zip customer_buy_state_dict"
      ],
      "execution_count": 30,
      "outputs": [
        {
          "output_type": "stream",
          "text": [
            "  adding: customer_buy_state_dict (deflated 49%)\n"
          ],
          "name": "stdout"
        }
      ]
    },
    {
      "cell_type": "code",
      "metadata": {
        "id": "vBRpOn7E0bax"
      },
      "source": [
        "from google.colab import files"
      ],
      "execution_count": 32,
      "outputs": []
    },
    {
      "cell_type": "code",
      "metadata": {
        "colab": {
          "base_uri": "https://localhost:8080/",
          "height": 17
        },
        "id": "lyjaIdkd08GX",
        "outputId": "c088943d-d3ae-4dbf-8328-2efcd4769a4a"
      },
      "source": [
        "files.download('customer_buy_state_dict.zip')"
      ],
      "execution_count": 33,
      "outputs": [
        {
          "output_type": "display_data",
          "data": {
            "application/javascript": [
              "\n",
              "    async function download(id, filename, size) {\n",
              "      if (!google.colab.kernel.accessAllowed) {\n",
              "        return;\n",
              "      }\n",
              "      const div = document.createElement('div');\n",
              "      const label = document.createElement('label');\n",
              "      label.textContent = `Downloading \"${filename}\": `;\n",
              "      div.appendChild(label);\n",
              "      const progress = document.createElement('progress');\n",
              "      progress.max = size;\n",
              "      div.appendChild(progress);\n",
              "      document.body.appendChild(div);\n",
              "\n",
              "      const buffers = [];\n",
              "      let downloaded = 0;\n",
              "\n",
              "      const channel = await google.colab.kernel.comms.open(id);\n",
              "      // Send a message to notify the kernel that we're ready.\n",
              "      channel.send({})\n",
              "\n",
              "      for await (const message of channel.messages) {\n",
              "        // Send a message to notify the kernel that we're ready.\n",
              "        channel.send({})\n",
              "        if (message.buffers) {\n",
              "          for (const buffer of message.buffers) {\n",
              "            buffers.push(buffer);\n",
              "            downloaded += buffer.byteLength;\n",
              "            progress.value = downloaded;\n",
              "          }\n",
              "        }\n",
              "      }\n",
              "      const blob = new Blob(buffers, {type: 'application/binary'});\n",
              "      const a = document.createElement('a');\n",
              "      a.href = window.URL.createObjectURL(blob);\n",
              "      a.download = filename;\n",
              "      div.appendChild(a);\n",
              "      a.click();\n",
              "      div.remove();\n",
              "    }\n",
              "  "
            ],
            "text/plain": [
              "<IPython.core.display.Javascript object>"
            ]
          },
          "metadata": {
            "tags": []
          }
        },
        {
          "output_type": "display_data",
          "data": {
            "application/javascript": [
              "download(\"download_edbe8837-3c70-4f01-aa87-e4d5874d733c\", \"customer_buy_state_dict.zip\", 1656)"
            ],
            "text/plain": [
              "<IPython.core.display.Javascript object>"
            ]
          },
          "metadata": {
            "tags": []
          }
        }
      ]
    }
  ]
}