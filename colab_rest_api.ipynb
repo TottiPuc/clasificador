{
  "nbformat": 4,
  "nbformat_minor": 0,
  "metadata": {
    "colab": {
      "name": "colab_rest_api.ipynb",
      "provenance": [],
      "authorship_tag": "ABX9TyPOMgzkpvQ5/7NzXDdWG3Sj",
      "include_colab_link": true
    },
    "kernelspec": {
      "name": "python3",
      "display_name": "Python 3"
    },
    "language_info": {
      "name": "python"
    }
  },
  "cells": [
    {
      "cell_type": "markdown",
      "metadata": {
        "id": "view-in-github",
        "colab_type": "text"
      },
      "source": [
        "<a href=\"https://colab.research.google.com/github/TottiPuc/clasificador/blob/master/colab_rest_api.ipynb\" target=\"_parent\"><img src=\"https://colab.research.google.com/assets/colab-badge.svg\" alt=\"Open In Colab\"/></a>"
      ]
    },
    {
      "cell_type": "code",
      "metadata": {
        "colab": {
          "base_uri": "https://localhost:8080/"
        },
        "id": "sq3xhYGG-Zg4",
        "outputId": "e84a0e8c-48d7-4e3d-a147-ed2cae71234f"
      },
      "source": [
        "!pip install flask-ngrok"
      ],
      "execution_count": 1,
      "outputs": [
        {
          "output_type": "stream",
          "text": [
            "Requirement already satisfied: flask-ngrok in /usr/local/lib/python3.7/dist-packages (0.0.25)\n",
            "Requirement already satisfied: requests in /usr/local/lib/python3.7/dist-packages (from flask-ngrok) (2.23.0)\n",
            "Requirement already satisfied: Flask>=0.8 in /usr/local/lib/python3.7/dist-packages (from flask-ngrok) (1.1.4)\n",
            "Requirement already satisfied: idna<3,>=2.5 in /usr/local/lib/python3.7/dist-packages (from requests->flask-ngrok) (2.10)\n",
            "Requirement already satisfied: urllib3!=1.25.0,!=1.25.1,<1.26,>=1.21.1 in /usr/local/lib/python3.7/dist-packages (from requests->flask-ngrok) (1.24.3)\n",
            "Requirement already satisfied: certifi>=2017.4.17 in /usr/local/lib/python3.7/dist-packages (from requests->flask-ngrok) (2020.12.5)\n",
            "Requirement already satisfied: chardet<4,>=3.0.2 in /usr/local/lib/python3.7/dist-packages (from requests->flask-ngrok) (3.0.4)\n",
            "Requirement already satisfied: Werkzeug<2.0,>=0.15 in /usr/local/lib/python3.7/dist-packages (from Flask>=0.8->flask-ngrok) (1.0.1)\n",
            "Requirement already satisfied: click<8.0,>=5.1 in /usr/local/lib/python3.7/dist-packages (from Flask>=0.8->flask-ngrok) (7.1.2)\n",
            "Requirement already satisfied: itsdangerous<2.0,>=0.24 in /usr/local/lib/python3.7/dist-packages (from Flask>=0.8->flask-ngrok) (1.1.0)\n",
            "Requirement already satisfied: Jinja2<3.0,>=2.10.1 in /usr/local/lib/python3.7/dist-packages (from Flask>=0.8->flask-ngrok) (2.11.3)\n",
            "Requirement already satisfied: MarkupSafe>=0.23 in /usr/local/lib/python3.7/dist-packages (from Jinja2<3.0,>=2.10.1->Flask>=0.8->flask-ngrok) (2.0.1)\n"
          ],
          "name": "stdout"
        }
      ]
    },
    {
      "cell_type": "code",
      "metadata": {
        "id": "fGCC_OGP9anJ"
      },
      "source": [
        "import numpy as np\n",
        "import pickle\n",
        "from flask_ngrok import run_with_ngrok\n",
        "from flask import Flask, request\n",
        "import requests"
      ],
      "execution_count": 2,
      "outputs": []
    },
    {
      "cell_type": "code",
      "metadata": {
        "colab": {
          "base_uri": "https://localhost:8080/"
        },
        "id": "pV43wz9e9oou",
        "outputId": "f99c304f-40dc-400c-ac1b-2000e1a93708"
      },
      "source": [
        "!wget  https://github.com/TottiPuc/clasificador/raw/master/sc.pickle"
      ],
      "execution_count": 3,
      "outputs": [
        {
          "output_type": "stream",
          "text": [
            "--2021-05-28 03:30:51--  https://github.com/TottiPuc/clasificador/raw/master/sc.pickle\n",
            "Resolving github.com (github.com)... 140.82.112.3\n",
            "Connecting to github.com (github.com)|140.82.112.3|:443... connected.\n",
            "HTTP request sent, awaiting response... 302 Found\n",
            "Location: https://raw.githubusercontent.com/TottiPuc/clasificador/master/sc.pickle [following]\n",
            "--2021-05-28 03:30:51--  https://raw.githubusercontent.com/TottiPuc/clasificador/master/sc.pickle\n",
            "Resolving raw.githubusercontent.com (raw.githubusercontent.com)... 185.199.110.133, 185.199.109.133, 185.199.111.133, ...\n",
            "Connecting to raw.githubusercontent.com (raw.githubusercontent.com)|185.199.110.133|:443... connected.\n",
            "HTTP request sent, awaiting response... 200 OK\n",
            "Length: 498 [application/octet-stream]\n",
            "Saving to: ‘sc.pickle.1’\n",
            "\n",
            "sc.pickle.1         100%[===================>]     498  --.-KB/s    in 0s      \n",
            "\n",
            "2021-05-28 03:30:51 (30.6 MB/s) - ‘sc.pickle.1’ saved [498/498]\n",
            "\n"
          ],
          "name": "stdout"
        }
      ]
    },
    {
      "cell_type": "code",
      "metadata": {
        "colab": {
          "base_uri": "https://localhost:8080/"
        },
        "id": "QVOJGCRK909C",
        "outputId": "e43599cf-55b6-483e-e9e4-280183280c5c"
      },
      "source": [
        "!wget https://github.com/TottiPuc/clasificador/raw/master/clasificador.pickle"
      ],
      "execution_count": 4,
      "outputs": [
        {
          "output_type": "stream",
          "text": [
            "--2021-05-28 03:30:51--  https://github.com/TottiPuc/clasificador/raw/master/clasificador.pickle\n",
            "Resolving github.com (github.com)... 140.82.112.3\n",
            "Connecting to github.com (github.com)|140.82.112.3|:443... connected.\n",
            "HTTP request sent, awaiting response... 302 Found\n",
            "Location: https://raw.githubusercontent.com/TottiPuc/clasificador/master/clasificador.pickle [following]\n",
            "--2021-05-28 03:30:51--  https://raw.githubusercontent.com/TottiPuc/clasificador/master/clasificador.pickle\n",
            "Resolving raw.githubusercontent.com (raw.githubusercontent.com)... 185.199.108.133, 185.199.109.133, 185.199.110.133, ...\n",
            "Connecting to raw.githubusercontent.com (raw.githubusercontent.com)|185.199.108.133|:443... connected.\n",
            "HTTP request sent, awaiting response... 200 OK\n",
            "Length: 2236 (2.2K) [application/octet-stream]\n",
            "Saving to: ‘clasificador.pickle.1’\n",
            "\n",
            "clasificador.pickle 100%[===================>]   2.18K  --.-KB/s    in 0s      \n",
            "\n",
            "2021-05-28 03:30:52 (32.0 MB/s) - ‘clasificador.pickle.1’ saved [2236/2236]\n",
            "\n"
          ],
          "name": "stdout"
        }
      ]
    },
    {
      "cell_type": "code",
      "metadata": {
        "colab": {
          "base_uri": "https://localhost:8080/"
        },
        "id": "7xVOHiWj98M4",
        "outputId": "e96a20f2-9af1-4d10-f9d0-ccc5e20289e8"
      },
      "source": [
        "!ls"
      ],
      "execution_count": 5,
      "outputs": [
        {
          "output_type": "stream",
          "text": [
            "clasificador.pickle  clasificador.pickle.1  sample_data  sc.pickle  sc.pickle.1\n"
          ],
          "name": "stdout"
        }
      ]
    },
    {
      "cell_type": "code",
      "metadata": {
        "colab": {
          "base_uri": "https://localhost:8080/"
        },
        "id": "aEhWqXti9_G0",
        "outputId": "530cd515-f198-4def-e7d0-0fa06fdbdc51"
      },
      "source": [
        "clasificador_colab = pickle.load(open('clasificador.pickle','rb'))"
      ],
      "execution_count": 6,
      "outputs": [
        {
          "output_type": "stream",
          "text": [
            "/usr/local/lib/python3.7/dist-packages/sklearn/base.py:318: UserWarning: Trying to unpickle estimator KNeighborsClassifier from version 0.24.1 when using version 0.22.2.post1. This might lead to breaking code or invalid results. Use at your own risk.\n",
            "  UserWarning)\n"
          ],
          "name": "stderr"
        }
      ]
    },
    {
      "cell_type": "code",
      "metadata": {
        "colab": {
          "base_uri": "https://localhost:8080/"
        },
        "id": "-gGKDAwD-Q8q",
        "outputId": "1764504e-4f23-4fe3-defd-210bf4aea08d"
      },
      "source": [
        "scaler_colab = pickle.load(open('sc.pickle','rb'))"
      ],
      "execution_count": 7,
      "outputs": [
        {
          "output_type": "stream",
          "text": [
            "/usr/local/lib/python3.7/dist-packages/sklearn/base.py:318: UserWarning: Trying to unpickle estimator StandardScaler from version 0.24.1 when using version 0.22.2.post1. This might lead to breaking code or invalid results. Use at your own risk.\n",
            "  UserWarning)\n"
          ],
          "name": "stderr"
        }
      ]
    },
    {
      "cell_type": "code",
      "metadata": {
        "id": "6Xpckumg-vfm"
      },
      "source": [
        "#creamos nuestra aplicacion flask\n",
        "app=Flask(__name__)"
      ],
      "execution_count": 8,
      "outputs": []
    },
    {
      "cell_type": "code",
      "metadata": {
        "id": "LWzhbq-w_MkI"
      },
      "source": [
        "#ahora queda expuesta en internet\n",
        "run_with_ngrok(app)"
      ],
      "execution_count": 9,
      "outputs": []
    },
    {
      "cell_type": "code",
      "metadata": {
        "id": "oflKANCu_W0f"
      },
      "source": [
        "#creamos la aplicacion\n",
        "@app.route('/predict', methods=['POST'])\n",
        "def customer_behavior():\n",
        "  request_data = request.get_json(force=True)\n",
        "  age = request_data['age']\n",
        "  salary = request_data['salary']\n",
        "  print(age)\n",
        "  print(salary)\n",
        "  pred_proba = clasificador_colab.predict_proba(scaler_colab.transform(np.array([[age,salary]])))[:,1]\n",
        "  print(pred_proba)\n",
        "  return \"the prediction is {}\".format(pred_proba)"
      ],
      "execution_count": 10,
      "outputs": []
    },
    {
      "cell_type": "code",
      "metadata": {
        "colab": {
          "base_uri": "https://localhost:8080/"
        },
        "id": "SjtPTSoz_8ut",
        "outputId": "61336e9c-2ab3-4e14-868c-13e300027557"
      },
      "source": [
        "app.run()"
      ],
      "execution_count": 11,
      "outputs": [
        {
          "output_type": "stream",
          "text": [
            " * Serving Flask app \"__main__\" (lazy loading)\n",
            " * Environment: production\n",
            "\u001b[31m   WARNING: This is a development server. Do not use it in a production deployment.\u001b[0m\n",
            "\u001b[2m   Use a production WSGI server instead.\u001b[0m\n",
            " * Debug mode: off\n"
          ],
          "name": "stdout"
        },
        {
          "output_type": "stream",
          "text": [
            " * Running on http://127.0.0.1:5000/ (Press CTRL+C to quit)\n"
          ],
          "name": "stderr"
        },
        {
          "output_type": "stream",
          "text": [
            " * Running on http://c970669fcf11.ngrok.io\n",
            " * Traffic stats available on http://127.0.0.1:4040\n"
          ],
          "name": "stdout"
        },
        {
          "output_type": "stream",
          "text": [
            "127.0.0.1 - - [28/May/2021 03:31:18] \"\u001b[37mPOST /predict HTTP/1.1\u001b[0m\" 200 -\n"
          ],
          "name": "stderr"
        },
        {
          "output_type": "stream",
          "text": [
            "40\n",
            "2000\n",
            "[0.]\n"
          ],
          "name": "stdout"
        }
      ]
    },
    {
      "cell_type": "code",
      "metadata": {
        "id": "wM2hsN1oAxMJ"
      },
      "source": [
        ""
      ],
      "execution_count": 11,
      "outputs": []
    }
  ]
}