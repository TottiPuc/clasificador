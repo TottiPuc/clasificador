{
  "nbformat": 4,
  "nbformat_minor": 0,
  "metadata": {
    "colab": {
      "name": "use_pytorch_dictionary.ipynb",
      "provenance": [],
      "authorship_tag": "ABX9TyOhlLoJZCLrlyw/hFcvy94Y",
      "include_colab_link": true
    },
    "kernelspec": {
      "name": "python3",
      "display_name": "Python 3"
    },
    "language_info": {
      "name": "python"
    }
  },
  "cells": [
    {
      "cell_type": "markdown",
      "metadata": {
        "id": "view-in-github",
        "colab_type": "text"
      },
      "source": [
        "<a href=\"https://colab.research.google.com/github/TottiPuc/clasificador/blob/master/use_pytorch_dictionary.ipynb\" target=\"_parent\"><img src=\"https://colab.research.google.com/assets/colab-badge.svg\" alt=\"Open In Colab\"/></a>"
      ]
    },
    {
      "cell_type": "code",
      "metadata": {
        "id": "VYk41tVJ3YOz"
      },
      "source": [
        "import zipfile\n",
        "import pickle\n",
        "import torch\n",
        "import torch.nn as nn\n",
        "from torch.nn import functional as F\n",
        "import numpy as np\n"
      ],
      "execution_count": 8,
      "outputs": []
    },
    {
      "cell_type": "code",
      "metadata": {
        "colab": {
          "base_uri": "https://localhost:8080/"
        },
        "id": "bWfnBoci2pdP",
        "outputId": "e8d975d0-e164-44df-a88c-83b14ee62398"
      },
      "source": [
        "!wget https://github.com/TottiPuc/clasificador/raw/master/customer_buy_state_dict.zip"
      ],
      "execution_count": 1,
      "outputs": [
        {
          "output_type": "stream",
          "text": [
            "--2021-05-28 21:22:42--  https://github.com/TottiPuc/clasificador/raw/master/customer_buy_state_dict.zip\n",
            "Resolving github.com (github.com)... 140.82.113.3\n",
            "Connecting to github.com (github.com)|140.82.113.3|:443... connected.\n",
            "HTTP request sent, awaiting response... 302 Found\n",
            "Location: https://raw.githubusercontent.com/TottiPuc/clasificador/master/customer_buy_state_dict.zip [following]\n",
            "--2021-05-28 21:22:43--  https://raw.githubusercontent.com/TottiPuc/clasificador/master/customer_buy_state_dict.zip\n",
            "Resolving raw.githubusercontent.com (raw.githubusercontent.com)... 185.199.109.133, 185.199.108.133, 185.199.110.133, ...\n",
            "Connecting to raw.githubusercontent.com (raw.githubusercontent.com)|185.199.109.133|:443... connected.\n",
            "HTTP request sent, awaiting response... 200 OK\n",
            "Length: 1656 (1.6K) [application/zip]\n",
            "Saving to: ‘customer_buy_state_dict.zip’\n",
            "\n",
            "customer_buy_state_ 100%[===================>]   1.62K  --.-KB/s    in 0s      \n",
            "\n",
            "2021-05-28 21:22:43 (16.0 MB/s) - ‘customer_buy_state_dict.zip’ saved [1656/1656]\n",
            "\n"
          ],
          "name": "stdout"
        }
      ]
    },
    {
      "cell_type": "code",
      "metadata": {
        "colab": {
          "base_uri": "https://localhost:8080/"
        },
        "id": "UWbIIUD527Qx",
        "outputId": "cc59dea8-cc0c-467e-c887-7c0777f647b7"
      },
      "source": [
        "!unzip customer_buy_state_dict.zip"
      ],
      "execution_count": 4,
      "outputs": [
        {
          "output_type": "stream",
          "text": [
            "Archive:  customer_buy_state_dict.zip\n",
            "  inflating: customer_buy_state_dict  \n"
          ],
          "name": "stdout"
        }
      ]
    },
    {
      "cell_type": "code",
      "metadata": {
        "colab": {
          "base_uri": "https://localhost:8080/"
        },
        "id": "gtyiOONn3bHP",
        "outputId": "57986ace-37c6-4c92-cd67-e51553fd5f43"
      },
      "source": [
        "!ls"
      ],
      "execution_count": 5,
      "outputs": [
        {
          "output_type": "stream",
          "text": [
            "customer_buy_state_dict  customer_buy_state_dict.zip  sample_data\n"
          ],
          "name": "stdout"
        }
      ]
    },
    {
      "cell_type": "code",
      "metadata": {
        "colab": {
          "base_uri": "https://localhost:8080/"
        },
        "id": "jWHmCJiZ3dGu",
        "outputId": "735694f4-b883-4b74-82fb-d872501dd19d"
      },
      "source": [
        "!wget https://github.com/TottiPuc/clasificador/raw/master/sc.pickle"
      ],
      "execution_count": 6,
      "outputs": [
        {
          "output_type": "stream",
          "text": [
            "--2021-05-28 21:26:23--  https://github.com/TottiPuc/clasificador/raw/master/sc.pickle\n",
            "Resolving github.com (github.com)... 140.82.112.4\n",
            "Connecting to github.com (github.com)|140.82.112.4|:443... connected.\n",
            "HTTP request sent, awaiting response... 302 Found\n",
            "Location: https://raw.githubusercontent.com/TottiPuc/clasificador/master/sc.pickle [following]\n",
            "--2021-05-28 21:26:24--  https://raw.githubusercontent.com/TottiPuc/clasificador/master/sc.pickle\n",
            "Resolving raw.githubusercontent.com (raw.githubusercontent.com)... 185.199.108.133, 185.199.110.133, 185.199.109.133, ...\n",
            "Connecting to raw.githubusercontent.com (raw.githubusercontent.com)|185.199.108.133|:443... connected.\n",
            "HTTP request sent, awaiting response... 200 OK\n",
            "Length: 498 [application/octet-stream]\n",
            "Saving to: ‘sc.pickle’\n",
            "\n",
            "sc.pickle           100%[===================>]     498  --.-KB/s    in 0s      \n",
            "\n",
            "2021-05-28 21:26:24 (29.5 MB/s) - ‘sc.pickle’ saved [498/498]\n",
            "\n"
          ],
          "name": "stdout"
        }
      ]
    },
    {
      "cell_type": "code",
      "metadata": {
        "colab": {
          "base_uri": "https://localhost:8080/"
        },
        "id": "K4UUevy83v75",
        "outputId": "7daa16c6-6987-427f-dda7-5ff815ebbb15"
      },
      "source": [
        "local_scaler = pickle.load(open('sc.pickle','rb'))"
      ],
      "execution_count": 9,
      "outputs": [
        {
          "output_type": "stream",
          "text": [
            "/usr/local/lib/python3.7/dist-packages/sklearn/base.py:318: UserWarning: Trying to unpickle estimator StandardScaler from version 0.24.1 when using version 0.22.2.post1. This might lead to breaking code or invalid results. Use at your own risk.\n",
            "  UserWarning)\n"
          ],
          "name": "stderr"
        }
      ]
    },
    {
      "cell_type": "code",
      "metadata": {
        "id": "bdg4Xdwl4QsY"
      },
      "source": [
        "input_size=2\n",
        "output_size=2\n",
        "hidden_size=10"
      ],
      "execution_count": 11,
      "outputs": []
    },
    {
      "cell_type": "code",
      "metadata": {
        "id": "j76Sudi74WzD"
      },
      "source": [
        "class Net(nn.Module):\n",
        "  def __init__(self):\n",
        "    super(Net, self).__init__()\n",
        "    self.fc1 = torch.nn.Linear(input_size,hidden_size)\n",
        "    self.fc2 = torch.nn.Linear(hidden_size,hidden_size)\n",
        "    self.fc3 = torch.nn.Linear(hidden_size,output_size)\n",
        "\n",
        "  def forward(self,X):\n",
        "    X=torch.relu((self.fc1(X)))\n",
        "    X=torch.relu((self.fc2(X)))\n",
        "    X=self.fc3(X)\n",
        "\n",
        "    return F.log_softmax(X,dim=1)"
      ],
      "execution_count": 12,
      "outputs": []
    },
    {
      "cell_type": "code",
      "metadata": {
        "id": "OzGKblWY4asj"
      },
      "source": [
        "new_predictor=Net()"
      ],
      "execution_count": 13,
      "outputs": []
    },
    {
      "cell_type": "code",
      "metadata": {
        "colab": {
          "base_uri": "https://localhost:8080/"
        },
        "id": "upCiVuQr4jLe",
        "outputId": "e00b2a74-ab9e-45a2-d382-1a72ac5582f1"
      },
      "source": [
        "new_predictor.load_state_dict(torch.load('customer_buy_state_dict'))"
      ],
      "execution_count": 14,
      "outputs": [
        {
          "output_type": "execute_result",
          "data": {
            "text/plain": [
              "<All keys matched successfully>"
            ]
          },
          "metadata": {
            "tags": []
          },
          "execution_count": 14
        }
      ]
    },
    {
      "cell_type": "code",
      "metadata": {
        "colab": {
          "base_uri": "https://localhost:8080/"
        },
        "id": "y9fX_Vlt4t4K",
        "outputId": "eaa861a5-e42a-4dcf-c6b6-02dd80bc3761"
      },
      "source": [
        "y_cust_20_40000 = new_predictor(torch.from_numpy(local_scaler.transform(np.array([[40,22000]]))).float())\n",
        "y_cust_20_40000"
      ],
      "execution_count": 18,
      "outputs": [
        {
          "output_type": "execute_result",
          "data": {
            "text/plain": [
              "tensor([[-0.8465, -0.5602]], grad_fn=<LogSoftmaxBackward>)"
            ]
          },
          "metadata": {
            "tags": []
          },
          "execution_count": 18
        }
      ]
    }
  ]
}